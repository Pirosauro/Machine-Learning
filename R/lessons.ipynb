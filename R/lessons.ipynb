{
  "cells": [
    {
      "metadata": {
        "trusted": true
      },
      "cell_type": "code",
      "source": "getwd()",
      "execution_count": 1,
      "outputs": [
        {
          "output_type": "display_data",
          "data": {
            "text/plain": "[1] \"/home/nbuser/library\"",
            "text/latex": "'/home/nbuser/library'",
            "text/markdown": "'/home/nbuser/library'",
            "text/html": "'/home/nbuser/library'"
          },
          "metadata": {}
        }
      ]
    },
    {
      "metadata": {
        "trusted": true
      },
      "cell_type": "code",
      "source": "range(1,10)",
      "execution_count": 2,
      "outputs": [
        {
          "output_type": "display_data",
          "data": {
            "text/plain": "[1]  1 10",
            "text/latex": "\\begin{enumerate*}\n\\item 1\n\\item 10\n\\end{enumerate*}\n",
            "text/markdown": "1. 1\n2. 10\n\n\n",
            "text/html": "<ol class=list-inline>\n\t<li>1</li>\n\t<li>10</li>\n</ol>\n"
          },
          "metadata": {}
        }
      ]
    },
    {
      "metadata": {
        "trusted": true
      },
      "cell_type": "code",
      "source": "range(1:10)",
      "execution_count": 3,
      "outputs": [
        {
          "output_type": "display_data",
          "data": {
            "text/plain": "[1]  1 10",
            "text/latex": "\\begin{enumerate*}\n\\item 1\n\\item 10\n\\end{enumerate*}\n",
            "text/markdown": "1. 1\n2. 10\n\n\n",
            "text/html": "<ol class=list-inline>\n\t<li>1</li>\n\t<li>10</li>\n</ol>\n"
          },
          "metadata": {}
        }
      ]
    },
    {
      "metadata": {
        "trusted": true
      },
      "cell_type": "code",
      "source": "x=c(5,2,3,4)",
      "execution_count": 4,
      "outputs": []
    },
    {
      "metadata": {
        "trusted": true
      },
      "cell_type": "code",
      "source": "range(x)",
      "execution_count": 5,
      "outputs": [
        {
          "output_type": "display_data",
          "data": {
            "text/plain": "[1] 2 5",
            "text/latex": "\\begin{enumerate*}\n\\item 2\n\\item 5\n\\end{enumerate*}\n",
            "text/markdown": "1. 2\n2. 5\n\n\n",
            "text/html": "<ol class=list-inline>\n\t<li>2</li>\n\t<li>5</li>\n</ol>\n"
          },
          "metadata": {}
        }
      ]
    },
    {
      "metadata": {
        "trusted": true
      },
      "cell_type": "code",
      "source": "sin(30)",
      "execution_count": 6,
      "outputs": [
        {
          "output_type": "display_data",
          "data": {
            "text/plain": "[1] -0.9880316",
            "text/latex": "-0.988031624092862",
            "text/markdown": "-0.988031624092862",
            "text/html": "-0.988031624092862"
          },
          "metadata": {}
        }
      ]
    },
    {
      "metadata": {
        "trusted": true
      },
      "cell_type": "code",
      "source": "sin(pi/6)",
      "execution_count": 7,
      "outputs": [
        {
          "output_type": "display_data",
          "data": {
            "text/plain": "[1] 0.5",
            "text/latex": "0.5",
            "text/markdown": "0.5",
            "text/html": "0.5"
          },
          "metadata": {}
        }
      ]
    },
    {
      "metadata": {
        "trusted": true
      },
      "cell_type": "code",
      "source": "p=matrix(c(1,0),nrow=2)",
      "execution_count": 34,
      "outputs": []
    },
    {
      "metadata": {
        "trusted": true
      },
      "cell_type": "code",
      "source": "A=matrix(c(cos(pi/6),sin(pi/6),-sin(pi/6),cos(pi/6)),nrow=2)",
      "execution_count": 35,
      "outputs": []
    },
    {
      "metadata": {
        "trusted": true
      },
      "cell_type": "code",
      "source": "A",
      "execution_count": 36,
      "outputs": [
        {
          "output_type": "display_data",
          "data": {
            "text/plain": "     [,1]      [,2]      \n[1,] 0.8660254 -0.5000000\n[2,] 0.5000000  0.8660254",
            "text/latex": "A matrix: 2 x 2 of type dbl\n\\begin{tabular}{ll}\n\t 0.8660254 & -0.5000000\\\\\n\t 0.5000000 &  0.8660254\\\\\n\\end{tabular}\n",
            "text/markdown": "\nA matrix: 2 x 2 of type dbl\n\n| 0.8660254 | -0.5000000 |\n| 0.5000000 |  0.8660254 |\n\n",
            "text/html": "<table>\n<caption>A matrix: 2 x 2 of type dbl</caption>\n<tbody>\n\t<tr><td>0.8660254</td><td>-0.5000000</td></tr>\n\t<tr><td>0.5000000</td><td> 0.8660254</td></tr>\n</tbody>\n</table>\n"
          },
          "metadata": {}
        }
      ]
    },
    {
      "metadata": {
        "trusted": true
      },
      "cell_type": "code",
      "source": "plot(p[1],p[2])",
      "execution_count": 37,
      "outputs": [
        {
          "output_type": "display_data",
          "data": {
            "image/png": "",
            "image/jpeg": "[encoded data removed]",
            "image/svg+xml": "<?xml version=\"1.0\" encoding=\"UTF-8\"?>\n<svg xmlns=\"http://www.w3.org/2000/svg\" xmlns:xlink=\"http://www.w3.org/1999/xlink\" width=\"288pt\" height=\"216pt\" viewBox=\"0 0 288 216\" version=\"1.1\">\n<defs>\n<g>\n<symbol overflow=\"visible\" id=\"glyph0-0\">\n<path style=\"stroke:none;\" d=\"\"/>\n</symbol>\n<symbol overflow=\"visible\" id=\"glyph0-1\">\n<path style=\"stroke:none;\" d=\"M 6.46875 -4.390625 C 6.46875 -7.46875 5.359375 -9.125 3.4375 -9.125 C 1.53125 -9.125 0.40625 -7.4375 0.40625 -4.46875 C 0.40625 -1.46875 1.53125 0.1875 3.4375 0.1875 C 5.3125 0.1875 6.46875 -1.46875 6.46875 -4.390625 Z M 5.078125 -4.484375 C 5.078125 -1.96875 4.640625 -0.984375 3.40625 -0.984375 C 2.25 -0.984375 1.78125 -2.03125 1.78125 -4.453125 C 1.78125 -6.875 2.25 -7.890625 3.4375 -7.890625 C 4.625 -7.890625 5.078125 -6.859375 5.078125 -4.484375 Z M 5.078125 -4.484375 \"/>\n</symbol>\n<symbol overflow=\"visible\" id=\"glyph0-2\">\n<path style=\"stroke:none;\" d=\"M 2.515625 -0.125 L 2.515625 -1.5625 L 0.953125 -1.5625 L 0.953125 0 L 2.515625 0 Z M 2.515625 -0.125 \"/>\n</symbol>\n<symbol overflow=\"visible\" id=\"glyph0-3\">\n<path style=\"stroke:none;\" d=\"M 6.53125 -2.875 C 6.53125 -4.53125 5.28125 -5.78125 3.703125 -5.78125 C 2.828125 -5.78125 2.03125 -5.390625 1.5625 -4.734375 L 1.78125 -4.65625 C 1.796875 -6.8125 2.375 -7.890625 3.640625 -7.890625 C 4.40625 -7.890625 4.8125 -7.53125 5.015625 -6.546875 L 6.375 -6.546875 C 6.140625 -8.125 5.0625 -9.125 3.71875 -9.125 C 1.65625 -9.125 0.40625 -7.25 0.40625 -4.15625 C 0.40625 -1.40625 1.484375 0.1875 3.515625 0.1875 C 5.203125 0.1875 6.53125 -1.140625 6.53125 -2.875 Z M 5.15625 -2.78125 C 5.15625 -1.671875 4.53125 -1.046875 3.53125 -1.046875 C 2.5 -1.046875 1.84375 -1.71875 1.84375 -2.84375 C 1.84375 -3.953125 2.46875 -4.53125 3.5625 -4.53125 C 4.625 -4.53125 5.15625 -3.96875 5.15625 -2.78125 Z M 5.15625 -2.78125 \"/>\n</symbol>\n<symbol overflow=\"visible\" id=\"glyph0-4\">\n<path style=\"stroke:none;\" d=\"M 6.53125 -2.625 C 6.53125 -3.609375 5.90625 -4.4375 5.140625 -4.796875 C 5.890625 -5.25 6.21875 -5.78125 6.21875 -6.625 C 6.21875 -8.015625 5.015625 -9.125 3.4375 -9.125 C 1.875 -9.125 0.640625 -8.015625 0.640625 -6.625 C 0.640625 -5.796875 0.96875 -5.265625 1.71875 -4.796875 C 0.96875 -4.4375 0.328125 -3.609375 0.328125 -2.640625 C 0.328125 -1.015625 1.6875 0.1875 3.4375 0.1875 C 5.1875 0.1875 6.53125 -1.015625 6.53125 -2.625 Z M 4.84375 -6.59375 C 4.84375 -5.78125 4.359375 -5.359375 3.4375 -5.359375 C 2.515625 -5.359375 2.03125 -5.78125 2.03125 -6.609375 C 2.03125 -7.46875 2.515625 -7.890625 3.4375 -7.890625 C 4.375 -7.890625 4.84375 -7.46875 4.84375 -6.59375 Z M 5.15625 -2.609375 C 5.15625 -1.5625 4.53125 -1.046875 3.40625 -1.046875 C 2.34375 -1.046875 1.71875 -1.578125 1.71875 -2.609375 C 1.71875 -3.65625 2.34375 -4.171875 3.4375 -4.171875 C 4.53125 -4.171875 5.15625 -3.65625 5.15625 -2.609375 Z M 5.15625 -2.609375 \"/>\n</symbol>\n<symbol overflow=\"visible\" id=\"glyph0-5\">\n<path style=\"stroke:none;\" d=\"M 4.46875 -0.125 L 4.46875 -9.125 L 3.515625 -9.125 C 3.09375 -7.625 2.96875 -7.578125 1.140625 -7.34375 L 1.140625 -6.3125 L 3.09375 -6.3125 L 3.09375 0 L 4.46875 0 Z M 4.46875 -0.125 \"/>\n</symbol>\n<symbol overflow=\"visible\" id=\"glyph0-6\">\n<path style=\"stroke:none;\" d=\"M 6.515625 -6.390625 C 6.515625 -7.890625 5.21875 -9.125 3.546875 -9.125 C 1.734375 -9.125 0.546875 -8.0625 0.484375 -5.78125 L 1.84375 -5.78125 C 1.9375 -7.40625 2.421875 -7.90625 3.515625 -7.90625 C 4.515625 -7.90625 5.125 -7.3125 5.125 -6.359375 C 5.125 -5.65625 4.75 -5.15625 3.96875 -4.703125 L 2.8125 -4.046875 C 0.96875 -3 0.390625 -2.078125 0.28125 0 L 6.453125 0 L 6.453125 -1.34375 L 1.8125 -1.34375 C 1.90625 -1.9375 2.265625 -2.3125 3.34375 -2.953125 L 4.59375 -3.625 C 5.84375 -4.28125 6.515625 -5.296875 6.515625 -6.390625 Z M 6.515625 -6.390625 \"/>\n</symbol>\n<symbol overflow=\"visible\" id=\"glyph0-7\">\n<path style=\"stroke:none;\" d=\"M 6.625 -2.25 L 6.625 -3.375 L 5.3125 -3.375 L 5.3125 -9.125 L 4.296875 -9.125 L 0.21875 -3.453125 L 0.21875 -2.125 L 3.953125 -2.125 L 3.953125 0 L 5.3125 0 L 5.3125 -2.125 L 6.625 -2.125 Z M 4.09375 -3.375 L 1.5625 -3.375 L 4.171875 -7.03125 L 3.953125 -7.109375 L 3.953125 -3.375 Z M 4.09375 -3.375 \"/>\n</symbol>\n<symbol overflow=\"visible\" id=\"glyph0-8\">\n<path style=\"stroke:none;\" d=\"M 6.65625 -3.34375 C 6.65625 -5.53125 5.46875 -7 3.71875 -7 C 2.84375 -7 2.03125 -6.546875 1.53125 -5.78125 L 1.765625 -5.6875 L 1.765625 -6.8125 L 0.546875 -6.8125 L 0.546875 2.71875 L 1.84375 2.71875 L 1.84375 -0.90625 L 1.625 -0.828125 C 2.171875 -0.15625 2.890625 0.1875 3.734375 0.1875 C 5.421875 0.1875 6.65625 -1.25 6.65625 -3.34375 Z M 5.3125 -3.359375 C 5.3125 -1.875 4.6875 -1.046875 3.546875 -1.046875 C 2.453125 -1.046875 1.84375 -1.8125 1.84375 -3.34375 C 1.84375 -4.890625 2.453125 -5.765625 3.546875 -5.765625 C 4.703125 -5.765625 5.3125 -4.921875 5.3125 -3.359375 Z M 5.3125 -3.359375 \"/>\n</symbol>\n<symbol overflow=\"visible\" id=\"glyph0-9\">\n<path style=\"stroke:none;\" d=\"M 3.25 2.53125 L 3.25 1.484375 L 1.96875 1.484375 L 1.96875 -8.21875 L 3.25 -8.21875 L 3.25 -9.375 L 0.65625 -9.375 L 0.65625 2.65625 L 3.25 2.65625 Z M 3.25 2.53125 \"/>\n</symbol>\n<symbol overflow=\"visible\" id=\"glyph0-10\">\n<path style=\"stroke:none;\" d=\"M 2.734375 2.53125 L 2.734375 -9.375 L 0.15625 -9.375 L 0.15625 -8.21875 L 1.4375 -8.21875 L 1.4375 1.484375 L 0.15625 1.484375 L 0.15625 2.65625 L 2.734375 2.65625 Z M 2.734375 2.53125 \"/>\n</symbol>\n<symbol overflow=\"visible\" id=\"glyph1-0\">\n<path style=\"stroke:none;\" d=\"\"/>\n</symbol>\n<symbol overflow=\"visible\" id=\"glyph1-1\">\n<path style=\"stroke:none;\" d=\"M -3.125 -3.671875 L -4.15625 -3.671875 L -4.15625 -0.4375 L -3 -0.4375 L -3 -3.671875 Z M -3.125 -3.671875 \"/>\n</symbol>\n<symbol overflow=\"visible\" id=\"glyph1-2\">\n<path style=\"stroke:none;\" d=\"M -0.125 -4.46875 L -9.125 -4.46875 L -9.125 -3.515625 C -7.625 -3.09375 -7.578125 -2.96875 -7.34375 -1.140625 L -6.3125 -1.140625 L -6.3125 -3.09375 L 0 -3.09375 L 0 -4.46875 Z M -0.125 -4.46875 \"/>\n</symbol>\n<symbol overflow=\"visible\" id=\"glyph1-3\">\n<path style=\"stroke:none;\" d=\"M -0.125 -2.515625 L -1.5625 -2.515625 L -1.5625 -0.953125 L 0 -0.953125 L 0 -2.515625 Z M -0.125 -2.515625 \"/>\n</symbol>\n<symbol overflow=\"visible\" id=\"glyph1-4\">\n<path style=\"stroke:none;\" d=\"M -4.390625 -6.46875 C -7.46875 -6.46875 -9.125 -5.359375 -9.125 -3.4375 C -9.125 -1.53125 -7.4375 -0.40625 -4.46875 -0.40625 C -1.46875 -0.40625 0.1875 -1.53125 0.1875 -3.4375 C 0.1875 -5.3125 -1.46875 -6.46875 -4.390625 -6.46875 Z M -4.484375 -5.078125 C -1.96875 -5.078125 -0.984375 -4.640625 -0.984375 -3.40625 C -0.984375 -2.25 -2.03125 -1.78125 -4.453125 -1.78125 C -6.875 -1.78125 -7.890625 -2.25 -7.890625 -3.4375 C -7.890625 -4.625 -6.859375 -5.078125 -4.484375 -5.078125 Z M -4.484375 -5.078125 \"/>\n</symbol>\n<symbol overflow=\"visible\" id=\"glyph1-5\">\n<path style=\"stroke:none;\" d=\"M -3.34375 -6.65625 C -5.53125 -6.65625 -7 -5.46875 -7 -3.71875 C -7 -2.84375 -6.546875 -2.03125 -5.78125 -1.53125 L -5.6875 -1.765625 L -6.8125 -1.765625 L -6.8125 -0.546875 L 2.71875 -0.546875 L 2.71875 -1.84375 L -0.90625 -1.84375 L -0.828125 -1.625 C -0.15625 -2.171875 0.1875 -2.890625 0.1875 -3.734375 C 0.1875 -5.421875 -1.25 -6.65625 -3.34375 -6.65625 Z M -3.359375 -5.3125 C -1.875 -5.3125 -1.046875 -4.6875 -1.046875 -3.546875 C -1.046875 -2.453125 -1.8125 -1.84375 -3.34375 -1.84375 C -4.890625 -1.84375 -5.765625 -2.453125 -5.765625 -3.546875 C -5.765625 -4.703125 -4.921875 -5.3125 -3.359375 -5.3125 Z M -3.359375 -5.3125 \"/>\n</symbol>\n<symbol overflow=\"visible\" id=\"glyph1-6\">\n<path style=\"stroke:none;\" d=\"M 2.53125 -3.25 L 1.484375 -3.25 L 1.484375 -1.96875 L -8.21875 -1.96875 L -8.21875 -3.25 L -9.375 -3.25 L -9.375 -0.65625 L 2.65625 -0.65625 L 2.65625 -3.25 Z M 2.53125 -3.25 \"/>\n</symbol>\n<symbol overflow=\"visible\" id=\"glyph1-7\">\n<path style=\"stroke:none;\" d=\"M -6.390625 -6.515625 C -7.890625 -6.515625 -9.125 -5.21875 -9.125 -3.546875 C -9.125 -1.734375 -8.0625 -0.546875 -5.78125 -0.484375 L -5.78125 -1.84375 C -7.40625 -1.9375 -7.90625 -2.421875 -7.90625 -3.515625 C -7.90625 -4.515625 -7.3125 -5.125 -6.359375 -5.125 C -5.65625 -5.125 -5.15625 -4.75 -4.703125 -3.96875 L -4.046875 -2.8125 C -3 -0.96875 -2.078125 -0.390625 0 -0.28125 L 0 -6.453125 L -1.34375 -6.453125 L -1.34375 -1.8125 C -1.9375 -1.90625 -2.3125 -2.265625 -2.953125 -3.34375 L -3.625 -4.59375 C -4.28125 -5.84375 -5.296875 -6.515625 -6.390625 -6.515625 Z M -6.390625 -6.515625 \"/>\n</symbol>\n<symbol overflow=\"visible\" id=\"glyph1-8\">\n<path style=\"stroke:none;\" d=\"M 2.53125 -2.734375 L -9.375 -2.734375 L -9.375 -0.15625 L -8.21875 -0.15625 L -8.21875 -1.4375 L 1.484375 -1.4375 L 1.484375 -0.15625 L 2.65625 -0.15625 L 2.65625 -2.734375 Z M 2.53125 -2.734375 \"/>\n</symbol>\n</g>\n</defs>\n<g id=\"surface460\">\n<rect x=\"0\" y=\"0\" width=\"288\" height=\"216\" style=\"fill:rgb(100%,100%,100%);fill-opacity:1;stroke:none;\"/>\n<path style=\"fill:none;stroke-width:1;stroke-linecap:round;stroke-linejoin:round;stroke:rgb(0%,0%,0%);stroke-opacity:1;stroke-miterlimit:10;\" d=\"M 161.601562 100.800781 C 161.601562 105.066406 155.199219 105.066406 155.199219 100.800781 C 155.199219 96.535156 161.601562 96.535156 161.601562 100.800781 \"/>\n<path style=\"fill:none;stroke-width:1;stroke-linecap:round;stroke-linejoin:round;stroke:rgb(0%,0%,0%);stroke-opacity:1;stroke-miterlimit:10;\" d=\"M 66.398438 142.558594 L 250.398438 142.558594 \"/>\n<path style=\"fill:none;stroke-width:1;stroke-linecap:round;stroke-linejoin:round;stroke:rgb(0%,0%,0%);stroke-opacity:1;stroke-miterlimit:10;\" d=\"M 66.398438 142.558594 L 66.398438 149.761719 \"/>\n<path style=\"fill:none;stroke-width:1;stroke-linecap:round;stroke-linejoin:round;stroke:rgb(0%,0%,0%);stroke-opacity:1;stroke-miterlimit:10;\" d=\"M 112.398438 142.558594 L 112.398438 149.761719 \"/>\n<path style=\"fill:none;stroke-width:1;stroke-linecap:round;stroke-linejoin:round;stroke:rgb(0%,0%,0%);stroke-opacity:1;stroke-miterlimit:10;\" d=\"M 158.398438 142.558594 L 158.398438 149.761719 \"/>\n<path style=\"fill:none;stroke-width:1;stroke-linecap:round;stroke-linejoin:round;stroke:rgb(0%,0%,0%);stroke-opacity:1;stroke-miterlimit:10;\" d=\"M 204.398438 142.558594 L 204.398438 149.761719 \"/>\n<path style=\"fill:none;stroke-width:1;stroke-linecap:round;stroke-linejoin:round;stroke:rgb(0%,0%,0%);stroke-opacity:1;stroke-miterlimit:10;\" d=\"M 250.398438 142.558594 L 250.398438 149.761719 \"/>\n<g style=\"fill:rgb(0%,0%,0%);fill-opacity:1;\">\n  <use xlink:href=\"#glyph0-1\" x=\"57.710938\" y=\"169.921875\"/>\n  <use xlink:href=\"#glyph0-2\" x=\"64.660965\" y=\"169.921875\"/>\n  <use xlink:href=\"#glyph0-3\" x=\"68.135971\" y=\"169.921875\"/>\n</g>\n<g style=\"fill:rgb(0%,0%,0%);fill-opacity:1;\">\n  <use xlink:href=\"#glyph0-1\" x=\"103.710938\" y=\"169.921875\"/>\n  <use xlink:href=\"#glyph0-2\" x=\"110.660965\" y=\"169.921875\"/>\n  <use xlink:href=\"#glyph0-4\" x=\"114.135971\" y=\"169.921875\"/>\n</g>\n<g style=\"fill:rgb(0%,0%,0%);fill-opacity:1;\">\n  <use xlink:href=\"#glyph0-5\" x=\"149.710938\" y=\"169.921875\"/>\n  <use xlink:href=\"#glyph0-2\" x=\"156.660965\" y=\"169.921875\"/>\n  <use xlink:href=\"#glyph0-1\" x=\"160.135971\" y=\"169.921875\"/>\n</g>\n<g style=\"fill:rgb(0%,0%,0%);fill-opacity:1;\">\n  <use xlink:href=\"#glyph0-5\" x=\"195.710938\" y=\"169.921875\"/>\n  <use xlink:href=\"#glyph0-2\" x=\"202.660965\" y=\"169.921875\"/>\n  <use xlink:href=\"#glyph0-6\" x=\"206.135971\" y=\"169.921875\"/>\n</g>\n<g style=\"fill:rgb(0%,0%,0%);fill-opacity:1;\">\n  <use xlink:href=\"#glyph0-5\" x=\"241.710938\" y=\"169.921875\"/>\n  <use xlink:href=\"#glyph0-2\" x=\"248.660965\" y=\"169.921875\"/>\n  <use xlink:href=\"#glyph0-7\" x=\"252.135971\" y=\"169.921875\"/>\n</g>\n<path style=\"fill:none;stroke-width:1;stroke-linecap:round;stroke-linejoin:round;stroke:rgb(0%,0%,0%);stroke-opacity:1;stroke-miterlimit:10;\" d=\"M 59.039062 139.464844 L 59.039062 62.132812 \"/>\n<path style=\"fill:none;stroke-width:1;stroke-linecap:round;stroke-linejoin:round;stroke:rgb(0%,0%,0%);stroke-opacity:1;stroke-miterlimit:10;\" d=\"M 59.039062 139.464844 L 51.839844 139.464844 \"/>\n<path style=\"fill:none;stroke-width:1;stroke-linecap:round;stroke-linejoin:round;stroke:rgb(0%,0%,0%);stroke-opacity:1;stroke-miterlimit:10;\" d=\"M 59.039062 120.132812 L 51.839844 120.132812 \"/>\n<path style=\"fill:none;stroke-width:1;stroke-linecap:round;stroke-linejoin:round;stroke:rgb(0%,0%,0%);stroke-opacity:1;stroke-miterlimit:10;\" d=\"M 59.039062 100.800781 L 51.839844 100.800781 \"/>\n<path style=\"fill:none;stroke-width:1;stroke-linecap:round;stroke-linejoin:round;stroke:rgb(0%,0%,0%);stroke-opacity:1;stroke-miterlimit:10;\" d=\"M 59.039062 81.464844 L 51.839844 81.464844 \"/>\n<path style=\"fill:none;stroke-width:1;stroke-linecap:round;stroke-linejoin:round;stroke:rgb(0%,0%,0%);stroke-opacity:1;stroke-miterlimit:10;\" d=\"M 59.039062 62.132812 L 51.839844 62.132812 \"/>\n<g style=\"fill:rgb(0%,0%,0%);fill-opacity:1;\">\n  <use xlink:href=\"#glyph1-1\" x=\"43.199219\" y=\"150.234375\"/>\n  <use xlink:href=\"#glyph1-2\" x=\"43.199219\" y=\"146.071854\"/>\n  <use xlink:href=\"#glyph1-3\" x=\"43.199219\" y=\"139.121826\"/>\n  <use xlink:href=\"#glyph1-4\" x=\"43.199219\" y=\"135.64682\"/>\n</g>\n<g style=\"fill:rgb(0%,0%,0%);fill-opacity:1;\">\n  <use xlink:href=\"#glyph1-4\" x=\"43.199219\" y=\"109.488281\"/>\n  <use xlink:href=\"#glyph1-3\" x=\"43.199219\" y=\"102.538254\"/>\n  <use xlink:href=\"#glyph1-4\" x=\"43.199219\" y=\"99.063248\"/>\n</g>\n<g style=\"fill:rgb(0%,0%,0%);fill-opacity:1;\">\n  <use xlink:href=\"#glyph1-2\" x=\"43.199219\" y=\"70.820312\"/>\n  <use xlink:href=\"#glyph1-3\" x=\"43.199219\" y=\"63.870285\"/>\n  <use xlink:href=\"#glyph1-4\" x=\"43.199219\" y=\"60.395279\"/>\n</g>\n<path style=\"fill:none;stroke-width:1;stroke-linecap:round;stroke-linejoin:round;stroke:rgb(0%,0%,0%);stroke-opacity:1;stroke-miterlimit:10;\" d=\"M 59.039062 142.558594 L 257.761719 142.558594 L 257.761719 59.039062 L 59.039062 59.039062 L 59.039062 142.558594 \"/>\n<g style=\"fill:rgb(0%,0%,0%);fill-opacity:1;\">\n  <use xlink:href=\"#glyph0-8\" x=\"147.972656\" y=\"198.71875\"/>\n  <use xlink:href=\"#glyph0-9\" x=\"154.922684\" y=\"198.71875\"/>\n  <use xlink:href=\"#glyph0-5\" x=\"158.39769\" y=\"198.71875\"/>\n  <use xlink:href=\"#glyph0-10\" x=\"165.347717\" y=\"198.71875\"/>\n</g>\n<g style=\"fill:rgb(0%,0%,0%);fill-opacity:1;\">\n  <use xlink:href=\"#glyph1-5\" x=\"14.398438\" y=\"111.226562\"/>\n  <use xlink:href=\"#glyph1-6\" x=\"14.398438\" y=\"104.276535\"/>\n  <use xlink:href=\"#glyph1-7\" x=\"14.398438\" y=\"100.801529\"/>\n  <use xlink:href=\"#glyph1-8\" x=\"14.398438\" y=\"93.851501\"/>\n</g>\n</g>\n</svg>\n"
          },
          "metadata": {
            "image/svg+xml": {
              "isolated": true
            }
          }
        }
      ]
    },
    {
      "metadata": {
        "trusted": true
      },
      "cell_type": "code",
      "source": "T=A%*%p",
      "execution_count": 38,
      "outputs": []
    },
    {
      "metadata": {
        "trusted": true
      },
      "cell_type": "code",
      "source": "plot(T[1,1],T[2,1])",
      "execution_count": 39,
      "outputs": [
        {
          "output_type": "display_data",
          "data": {
            "image/png": "",
            "image/jpeg": "[encoded data removed]",
            "image/svg+xml": "<?xml version=\"1.0\" encoding=\"UTF-8\"?>\n<svg xmlns=\"http://www.w3.org/2000/svg\" xmlns:xlink=\"http://www.w3.org/1999/xlink\" width=\"288pt\" height=\"216pt\" viewBox=\"0 0 288 216\" version=\"1.1\">\n<defs>\n<g>\n<symbol overflow=\"visible\" id=\"glyph0-0\">\n<path style=\"stroke:none;\" d=\"\"/>\n</symbol>\n<symbol overflow=\"visible\" id=\"glyph0-1\">\n<path style=\"stroke:none;\" d=\"M 6.46875 -4.390625 C 6.46875 -7.46875 5.359375 -9.125 3.4375 -9.125 C 1.53125 -9.125 0.40625 -7.4375 0.40625 -4.46875 C 0.40625 -1.46875 1.53125 0.1875 3.4375 0.1875 C 5.3125 0.1875 6.46875 -1.46875 6.46875 -4.390625 Z M 5.078125 -4.484375 C 5.078125 -1.96875 4.640625 -0.984375 3.40625 -0.984375 C 2.25 -0.984375 1.78125 -2.03125 1.78125 -4.453125 C 1.78125 -6.875 2.25 -7.890625 3.4375 -7.890625 C 4.625 -7.890625 5.078125 -6.859375 5.078125 -4.484375 Z M 5.078125 -4.484375 \"/>\n</symbol>\n<symbol overflow=\"visible\" id=\"glyph0-2\">\n<path style=\"stroke:none;\" d=\"M 2.515625 -0.125 L 2.515625 -1.5625 L 0.953125 -1.5625 L 0.953125 0 L 2.515625 0 Z M 2.515625 -0.125 \"/>\n</symbol>\n<symbol overflow=\"visible\" id=\"glyph0-3\">\n<path style=\"stroke:none;\" d=\"M 6.53125 -3.0625 C 6.53125 -4.8125 5.25 -6.09375 3.546875 -6.09375 C 2.921875 -6.09375 2.328125 -5.890625 2.09375 -5.71875 L 2.359375 -7.59375 L 6.078125 -7.59375 L 6.078125 -8.9375 L 1.25 -8.9375 L 0.546875 -4.03125 L 1.78125 -4.03125 C 2.328125 -4.6875 2.65625 -4.859375 3.34375 -4.859375 C 4.53125 -4.859375 5.15625 -4.21875 5.15625 -2.90625 C 5.15625 -1.640625 4.546875 -1.046875 3.34375 -1.046875 C 2.390625 -1.046875 1.921875 -1.40625 1.625 -2.53125 L 0.28125 -2.53125 C 0.65625 -0.640625 1.796875 0.1875 3.375 0.1875 C 5.15625 0.1875 6.53125 -1.1875 6.53125 -3.0625 Z M 6.53125 -3.0625 \"/>\n</symbol>\n<symbol overflow=\"visible\" id=\"glyph0-4\">\n<path style=\"stroke:none;\" d=\"M 6.625 -7.875 L 6.625 -8.9375 L 0.4375 -8.9375 L 0.4375 -7.59375 L 5.09375 -7.59375 C 3.5 -5.578125 2.21875 -2.90625 1.5625 0 L 3 0 C 3.515625 -2.984375 4.71875 -5.578125 6.625 -7.828125 Z M 6.625 -7.875 \"/>\n</symbol>\n<symbol overflow=\"visible\" id=\"glyph0-5\">\n<path style=\"stroke:none;\" d=\"M 6.484375 -4.765625 C 6.484375 -7.53125 5.40625 -9.125 3.375 -9.125 C 1.6875 -9.125 0.34375 -7.78125 0.34375 -6.046875 C 0.34375 -4.40625 1.59375 -3.15625 3.203125 -3.15625 C 4.03125 -3.15625 4.734375 -3.5 5.3125 -4.1875 L 5.09375 -4.28125 C 5.078125 -2.109375 4.515625 -1.046875 3.25 -1.046875 C 2.46875 -1.046875 2.0625 -1.40625 1.859375 -2.390625 L 0.5 -2.390625 C 0.734375 -0.796875 1.828125 0.1875 3.171875 0.1875 C 5.25 0.1875 6.484375 -1.703125 6.484375 -4.765625 Z M 5.03125 -6.078125 C 5.03125 -4.984375 4.40625 -4.40625 3.328125 -4.40625 C 2.265625 -4.40625 1.71875 -4.953125 1.71875 -6.140625 C 1.71875 -7.265625 2.34375 -7.90625 3.359375 -7.90625 C 4.390625 -7.90625 5.03125 -7.21875 5.03125 -6.078125 Z M 5.03125 -6.078125 \"/>\n</symbol>\n<symbol overflow=\"visible\" id=\"glyph0-6\">\n<path style=\"stroke:none;\" d=\"M 4.46875 -0.125 L 4.46875 -9.125 L 3.515625 -9.125 C 3.09375 -7.625 2.96875 -7.578125 1.140625 -7.34375 L 1.140625 -6.3125 L 3.09375 -6.3125 L 3.09375 0 L 4.46875 0 Z M 4.46875 -0.125 \"/>\n</symbol>\n<symbol overflow=\"visible\" id=\"glyph0-7\">\n<path style=\"stroke:none;\" d=\"M 7.53125 -8.21875 L 7.53125 -9.375 L 0.125 -9.375 L 0.125 -8.09375 L 3.125 -8.09375 L 3.125 0 L 4.546875 0 L 4.546875 -8.09375 L 7.53125 -8.09375 Z M 7.53125 -8.21875 \"/>\n</symbol>\n<symbol overflow=\"visible\" id=\"glyph0-8\">\n<path style=\"stroke:none;\" d=\"M 3.25 2.53125 L 3.25 1.484375 L 1.96875 1.484375 L 1.96875 -8.21875 L 3.25 -8.21875 L 3.25 -9.375 L 0.65625 -9.375 L 0.65625 2.65625 L 3.25 2.65625 Z M 3.25 2.53125 \"/>\n</symbol>\n<symbol overflow=\"visible\" id=\"glyph0-9\">\n<path style=\"stroke:none;\" d=\"M 2.53125 0.078125 L 2.53125 -1.5625 L 0.953125 -1.5625 L 0.953125 0 L 1.703125 0 L 1.703125 0.09375 C 1.703125 0.96875 1.671875 1.078125 0.953125 1.109375 L 0.953125 1.84375 C 1.96875 1.84375 2.53125 1.15625 2.53125 0.078125 Z M 2.53125 0.078125 \"/>\n</symbol>\n<symbol overflow=\"visible\" id=\"glyph0-10\">\n<path style=\"stroke:none;\" d=\"\"/>\n</symbol>\n<symbol overflow=\"visible\" id=\"glyph0-11\">\n<path style=\"stroke:none;\" d=\"M 2.734375 2.53125 L 2.734375 -9.375 L 0.15625 -9.375 L 0.15625 -8.21875 L 1.4375 -8.21875 L 1.4375 1.484375 L 0.15625 1.484375 L 0.15625 2.65625 L 2.734375 2.65625 Z M 2.734375 2.53125 \"/>\n</symbol>\n<symbol overflow=\"visible\" id=\"glyph1-0\">\n<path style=\"stroke:none;\" d=\"\"/>\n</symbol>\n<symbol overflow=\"visible\" id=\"glyph1-1\">\n<path style=\"stroke:none;\" d=\"M -4.390625 -6.46875 C -7.46875 -6.46875 -9.125 -5.359375 -9.125 -3.4375 C -9.125 -1.53125 -7.4375 -0.40625 -4.46875 -0.40625 C -1.46875 -0.40625 0.1875 -1.53125 0.1875 -3.4375 C 0.1875 -5.3125 -1.46875 -6.46875 -4.390625 -6.46875 Z M -4.484375 -5.078125 C -1.96875 -5.078125 -0.984375 -4.640625 -0.984375 -3.40625 C -0.984375 -2.25 -2.03125 -1.78125 -4.453125 -1.78125 C -6.875 -1.78125 -7.890625 -2.25 -7.890625 -3.4375 C -7.890625 -4.625 -6.859375 -5.078125 -4.484375 -5.078125 Z M -4.484375 -5.078125 \"/>\n</symbol>\n<symbol overflow=\"visible\" id=\"glyph1-2\">\n<path style=\"stroke:none;\" d=\"M -0.125 -2.515625 L -1.5625 -2.515625 L -1.5625 -0.953125 L 0 -0.953125 L 0 -2.515625 Z M -0.125 -2.515625 \"/>\n</symbol>\n<symbol overflow=\"visible\" id=\"glyph1-3\">\n<path style=\"stroke:none;\" d=\"M -2.703125 -6.453125 C -3.78125 -6.453125 -4.53125 -5.890625 -4.90625 -4.828125 L -4.640625 -4.828125 C -4.96875 -5.65625 -5.65625 -6.1875 -6.546875 -6.1875 C -8.078125 -6.1875 -9.125 -5.046875 -9.125 -3.359375 C -9.125 -1.578125 -8.015625 -0.484375 -6 -0.453125 L -6 -1.8125 C -7.4375 -1.84375 -7.90625 -2.25 -7.90625 -3.375 C -7.90625 -4.34375 -7.453125 -4.796875 -6.515625 -4.796875 C -5.5625 -4.796875 -5.3125 -4.53125 -5.3125 -2.625 L -4.125 -2.625 L -4.125 -3.359375 C -4.125 -4.578125 -3.671875 -5.0625 -2.6875 -5.0625 C -1.578125 -5.0625 -1.046875 -4.515625 -1.046875 -3.359375 C -1.046875 -2.15625 -1.515625 -1.703125 -2.9375 -1.609375 L -2.9375 -0.25 C -0.828125 -0.40625 0.1875 -1.515625 0.1875 -3.328125 C 0.1875 -5.15625 -1.03125 -6.453125 -2.703125 -6.453125 Z M -2.703125 -6.453125 \"/>\n</symbol>\n<symbol overflow=\"visible\" id=\"glyph1-4\">\n<path style=\"stroke:none;\" d=\"M -3.0625 -6.53125 C -4.8125 -6.53125 -6.09375 -5.25 -6.09375 -3.546875 C -6.09375 -2.921875 -5.890625 -2.328125 -5.71875 -2.09375 L -7.59375 -2.359375 L -7.59375 -6.078125 L -8.9375 -6.078125 L -8.9375 -1.25 L -4.03125 -0.546875 L -4.03125 -1.78125 C -4.6875 -2.328125 -4.859375 -2.65625 -4.859375 -3.34375 C -4.859375 -4.53125 -4.21875 -5.15625 -2.90625 -5.15625 C -1.640625 -5.15625 -1.046875 -4.546875 -1.046875 -3.34375 C -1.046875 -2.390625 -1.40625 -1.921875 -2.53125 -1.625 L -2.53125 -0.28125 C -0.640625 -0.65625 0.1875 -1.796875 0.1875 -3.375 C 0.1875 -5.15625 -1.1875 -6.53125 -3.0625 -6.53125 Z M -3.0625 -6.53125 \"/>\n</symbol>\n<symbol overflow=\"visible\" id=\"glyph1-5\">\n<path style=\"stroke:none;\" d=\"M -7.875 -6.625 L -8.9375 -6.625 L -8.9375 -0.4375 L -7.59375 -0.4375 L -7.59375 -5.09375 C -5.578125 -3.5 -2.90625 -2.21875 0 -1.5625 L 0 -3 C -2.984375 -3.515625 -5.578125 -4.71875 -7.828125 -6.625 Z M -7.875 -6.625 \"/>\n</symbol>\n<symbol overflow=\"visible\" id=\"glyph1-6\">\n<path style=\"stroke:none;\" d=\"M -8.21875 -7.53125 L -9.375 -7.53125 L -9.375 -0.125 L -8.09375 -0.125 L -8.09375 -3.125 L 0 -3.125 L 0 -4.546875 L -8.09375 -4.546875 L -8.09375 -7.53125 Z M -8.21875 -7.53125 \"/>\n</symbol>\n<symbol overflow=\"visible\" id=\"glyph1-7\">\n<path style=\"stroke:none;\" d=\"M 2.53125 -3.25 L 1.484375 -3.25 L 1.484375 -1.96875 L -8.21875 -1.96875 L -8.21875 -3.25 L -9.375 -3.25 L -9.375 -0.65625 L 2.65625 -0.65625 L 2.65625 -3.25 Z M 2.53125 -3.25 \"/>\n</symbol>\n<symbol overflow=\"visible\" id=\"glyph1-8\">\n<path style=\"stroke:none;\" d=\"M -6.390625 -6.515625 C -7.890625 -6.515625 -9.125 -5.21875 -9.125 -3.546875 C -9.125 -1.734375 -8.0625 -0.546875 -5.78125 -0.484375 L -5.78125 -1.84375 C -7.40625 -1.9375 -7.90625 -2.421875 -7.90625 -3.515625 C -7.90625 -4.515625 -7.3125 -5.125 -6.359375 -5.125 C -5.65625 -5.125 -5.15625 -4.75 -4.703125 -3.96875 L -4.046875 -2.8125 C -3 -0.96875 -2.078125 -0.390625 0 -0.28125 L 0 -6.453125 L -1.34375 -6.453125 L -1.34375 -1.8125 C -1.9375 -1.90625 -2.3125 -2.265625 -2.953125 -3.34375 L -3.625 -4.59375 C -4.28125 -5.84375 -5.296875 -6.515625 -6.390625 -6.515625 Z M -6.390625 -6.515625 \"/>\n</symbol>\n<symbol overflow=\"visible\" id=\"glyph1-9\">\n<path style=\"stroke:none;\" d=\"M 0.078125 -2.53125 L -1.5625 -2.53125 L -1.5625 -0.953125 L 0 -0.953125 L 0 -1.703125 L 0.09375 -1.703125 C 0.96875 -1.703125 1.078125 -1.671875 1.109375 -0.953125 L 1.84375 -0.953125 C 1.84375 -1.96875 1.15625 -2.53125 0.078125 -2.53125 Z M 0.078125 -2.53125 \"/>\n</symbol>\n<symbol overflow=\"visible\" id=\"glyph1-10\">\n<path style=\"stroke:none;\" d=\"\"/>\n</symbol>\n<symbol overflow=\"visible\" id=\"glyph1-11\">\n<path style=\"stroke:none;\" d=\"M -0.125 -4.46875 L -9.125 -4.46875 L -9.125 -3.515625 C -7.625 -3.09375 -7.578125 -2.96875 -7.34375 -1.140625 L -6.3125 -1.140625 L -6.3125 -3.09375 L 0 -3.09375 L 0 -4.46875 Z M -0.125 -4.46875 \"/>\n</symbol>\n<symbol overflow=\"visible\" id=\"glyph1-12\">\n<path style=\"stroke:none;\" d=\"M 2.53125 -2.734375 L -9.375 -2.734375 L -9.375 -0.15625 L -8.21875 -0.15625 L -8.21875 -1.4375 L 1.484375 -1.4375 L 1.484375 -0.15625 L 2.65625 -0.15625 L 2.65625 -2.734375 Z M 2.53125 -2.734375 \"/>\n</symbol>\n</g>\n</defs>\n<g id=\"surface513\">\n<rect x=\"0\" y=\"0\" width=\"288\" height=\"216\" style=\"fill:rgb(100%,100%,100%);fill-opacity:1;stroke:none;\"/>\n<path style=\"fill:none;stroke-width:1;stroke-linecap:round;stroke-linejoin:round;stroke:rgb(0%,0%,0%);stroke-opacity:1;stroke-miterlimit:10;\" d=\"M 161.601562 100.800781 C 161.601562 105.066406 155.199219 105.066406 155.199219 100.800781 C 155.199219 96.535156 161.601562 96.535156 161.601562 100.800781 \"/>\n<path style=\"fill:none;stroke-width:1;stroke-linecap:round;stroke-linejoin:round;stroke:rgb(0%,0%,0%);stroke-opacity:1;stroke-miterlimit:10;\" d=\"M 61.191406 142.558594 L 247.097656 142.558594 \"/>\n<path style=\"fill:none;stroke-width:1;stroke-linecap:round;stroke-linejoin:round;stroke:rgb(0%,0%,0%);stroke-opacity:1;stroke-miterlimit:10;\" d=\"M 61.191406 142.558594 L 61.191406 149.761719 \"/>\n<path style=\"fill:none;stroke-width:1;stroke-linecap:round;stroke-linejoin:round;stroke:rgb(0%,0%,0%);stroke-opacity:1;stroke-miterlimit:10;\" d=\"M 87.75 142.558594 L 87.75 149.761719 \"/>\n<path style=\"fill:none;stroke-width:1;stroke-linecap:round;stroke-linejoin:round;stroke:rgb(0%,0%,0%);stroke-opacity:1;stroke-miterlimit:10;\" d=\"M 114.308594 142.558594 L 114.308594 149.761719 \"/>\n<path style=\"fill:none;stroke-width:1;stroke-linecap:round;stroke-linejoin:round;stroke:rgb(0%,0%,0%);stroke-opacity:1;stroke-miterlimit:10;\" d=\"M 140.863281 142.558594 L 140.863281 149.761719 \"/>\n<path style=\"fill:none;stroke-width:1;stroke-linecap:round;stroke-linejoin:round;stroke:rgb(0%,0%,0%);stroke-opacity:1;stroke-miterlimit:10;\" d=\"M 167.421875 142.558594 L 167.421875 149.761719 \"/>\n<path style=\"fill:none;stroke-width:1;stroke-linecap:round;stroke-linejoin:round;stroke:rgb(0%,0%,0%);stroke-opacity:1;stroke-miterlimit:10;\" d=\"M 193.980469 142.558594 L 193.980469 149.761719 \"/>\n<path style=\"fill:none;stroke-width:1;stroke-linecap:round;stroke-linejoin:round;stroke:rgb(0%,0%,0%);stroke-opacity:1;stroke-miterlimit:10;\" d=\"M 220.539062 142.558594 L 220.539062 149.761719 \"/>\n<path style=\"fill:none;stroke-width:1;stroke-linecap:round;stroke-linejoin:round;stroke:rgb(0%,0%,0%);stroke-opacity:1;stroke-miterlimit:10;\" d=\"M 247.097656 142.558594 L 247.097656 149.761719 \"/>\n<g style=\"fill:rgb(0%,0%,0%);fill-opacity:1;\">\n  <use xlink:href=\"#glyph0-1\" x=\"52.503906\" y=\"169.921875\"/>\n  <use xlink:href=\"#glyph0-2\" x=\"59.453934\" y=\"169.921875\"/>\n  <use xlink:href=\"#glyph0-3\" x=\"62.92894\" y=\"169.921875\"/>\n</g>\n<g style=\"fill:rgb(0%,0%,0%);fill-opacity:1;\">\n  <use xlink:href=\"#glyph0-1\" x=\"105.621094\" y=\"169.921875\"/>\n  <use xlink:href=\"#glyph0-2\" x=\"112.571121\" y=\"169.921875\"/>\n  <use xlink:href=\"#glyph0-4\" x=\"116.046127\" y=\"169.921875\"/>\n</g>\n<g style=\"fill:rgb(0%,0%,0%);fill-opacity:1;\">\n  <use xlink:href=\"#glyph0-1\" x=\"158.734375\" y=\"169.921875\"/>\n  <use xlink:href=\"#glyph0-2\" x=\"165.684402\" y=\"169.921875\"/>\n  <use xlink:href=\"#glyph0-5\" x=\"169.159409\" y=\"169.921875\"/>\n</g>\n<g style=\"fill:rgb(0%,0%,0%);fill-opacity:1;\">\n  <use xlink:href=\"#glyph0-6\" x=\"211.851562\" y=\"169.921875\"/>\n  <use xlink:href=\"#glyph0-2\" x=\"218.80159\" y=\"169.921875\"/>\n  <use xlink:href=\"#glyph0-6\" x=\"222.276596\" y=\"169.921875\"/>\n</g>\n<path style=\"fill:none;stroke-width:1;stroke-linecap:round;stroke-linejoin:round;stroke:rgb(0%,0%,0%);stroke-opacity:1;stroke-miterlimit:10;\" d=\"M 59.039062 139.464844 L 59.039062 62.132812 \"/>\n<path style=\"fill:none;stroke-width:1;stroke-linecap:round;stroke-linejoin:round;stroke:rgb(0%,0%,0%);stroke-opacity:1;stroke-miterlimit:10;\" d=\"M 59.039062 139.464844 L 51.839844 139.464844 \"/>\n<path style=\"fill:none;stroke-width:1;stroke-linecap:round;stroke-linejoin:round;stroke:rgb(0%,0%,0%);stroke-opacity:1;stroke-miterlimit:10;\" d=\"M 59.039062 120.132812 L 51.839844 120.132812 \"/>\n<path style=\"fill:none;stroke-width:1;stroke-linecap:round;stroke-linejoin:round;stroke:rgb(0%,0%,0%);stroke-opacity:1;stroke-miterlimit:10;\" d=\"M 59.039062 100.800781 L 51.839844 100.800781 \"/>\n<path style=\"fill:none;stroke-width:1;stroke-linecap:round;stroke-linejoin:round;stroke:rgb(0%,0%,0%);stroke-opacity:1;stroke-miterlimit:10;\" d=\"M 59.039062 81.464844 L 51.839844 81.464844 \"/>\n<path style=\"fill:none;stroke-width:1;stroke-linecap:round;stroke-linejoin:round;stroke:rgb(0%,0%,0%);stroke-opacity:1;stroke-miterlimit:10;\" d=\"M 59.039062 62.132812 L 51.839844 62.132812 \"/>\n<g style=\"fill:rgb(0%,0%,0%);fill-opacity:1;\">\n  <use xlink:href=\"#glyph1-1\" x=\"43.199219\" y=\"148.152344\"/>\n  <use xlink:href=\"#glyph1-2\" x=\"43.199219\" y=\"141.202316\"/>\n  <use xlink:href=\"#glyph1-3\" x=\"43.199219\" y=\"137.72731\"/>\n</g>\n<g style=\"fill:rgb(0%,0%,0%);fill-opacity:1;\">\n  <use xlink:href=\"#glyph1-1\" x=\"43.199219\" y=\"109.488281\"/>\n  <use xlink:href=\"#glyph1-2\" x=\"43.199219\" y=\"102.538254\"/>\n  <use xlink:href=\"#glyph1-4\" x=\"43.199219\" y=\"99.063248\"/>\n</g>\n<g style=\"fill:rgb(0%,0%,0%);fill-opacity:1;\">\n  <use xlink:href=\"#glyph1-1\" x=\"43.199219\" y=\"70.820312\"/>\n  <use xlink:href=\"#glyph1-2\" x=\"43.199219\" y=\"63.870285\"/>\n  <use xlink:href=\"#glyph1-5\" x=\"43.199219\" y=\"60.395279\"/>\n</g>\n<path style=\"fill:none;stroke-width:1;stroke-linecap:round;stroke-linejoin:round;stroke:rgb(0%,0%,0%);stroke-opacity:1;stroke-miterlimit:10;\" d=\"M 59.039062 142.558594 L 257.761719 142.558594 L 257.761719 59.039062 L 59.039062 59.039062 L 59.039062 142.558594 \"/>\n<g style=\"fill:rgb(0%,0%,0%);fill-opacity:1;\">\n  <use xlink:href=\"#glyph0-7\" x=\"140.679688\" y=\"198.71875\"/>\n  <use xlink:href=\"#glyph0-8\" x=\"148.317215\" y=\"198.71875\"/>\n  <use xlink:href=\"#glyph0-6\" x=\"151.792221\" y=\"198.71875\"/>\n  <use xlink:href=\"#glyph0-9\" x=\"158.742249\" y=\"198.71875\"/>\n  <use xlink:href=\"#glyph0-10\" x=\"162.217255\" y=\"198.71875\"/>\n  <use xlink:href=\"#glyph0-6\" x=\"165.692261\" y=\"198.71875\"/>\n  <use xlink:href=\"#glyph0-11\" x=\"172.642288\" y=\"198.71875\"/>\n</g>\n<g style=\"fill:rgb(0%,0%,0%);fill-opacity:1;\">\n  <use xlink:href=\"#glyph1-6\" x=\"14.398438\" y=\"118.519531\"/>\n  <use xlink:href=\"#glyph1-7\" x=\"14.398438\" y=\"110.882004\"/>\n  <use xlink:href=\"#glyph1-8\" x=\"14.398438\" y=\"107.406998\"/>\n  <use xlink:href=\"#glyph1-9\" x=\"14.398438\" y=\"100.45697\"/>\n  <use xlink:href=\"#glyph1-10\" x=\"14.398438\" y=\"96.981964\"/>\n  <use xlink:href=\"#glyph1-11\" x=\"14.398438\" y=\"93.506958\"/>\n  <use xlink:href=\"#glyph1-12\" x=\"14.398438\" y=\"86.556931\"/>\n</g>\n</g>\n</svg>\n"
          },
          "metadata": {
            "image/svg+xml": {
              "isolated": true
            }
          }
        }
      ]
    },
    {
      "metadata": {
        "trusted": true
      },
      "cell_type": "code",
      "source": "T",
      "execution_count": 40,
      "outputs": [
        {
          "output_type": "display_data",
          "data": {
            "text/plain": "     [,1]     \n[1,] 0.8660254\n[2,] 0.5000000",
            "text/latex": "A matrix: 2 x 1 of type dbl\n\\begin{tabular}{l}\n\t 0.8660254\\\\\n\t 0.5000000\\\\\n\\end{tabular}\n",
            "text/markdown": "\nA matrix: 2 x 1 of type dbl\n\n| 0.8660254 |\n| 0.5000000 |\n\n",
            "text/html": "<table>\n<caption>A matrix: 2 x 1 of type dbl</caption>\n<tbody>\n\t<tr><td>0.8660254</td></tr>\n\t<tr><td>0.5000000</td></tr>\n</tbody>\n</table>\n"
          },
          "metadata": {}
        }
      ]
    },
    {
      "metadata": {
        "trusted": true
      },
      "cell_type": "code",
      "source": "names(p)=c('x coord', 'y coord')",
      "execution_count": 41,
      "outputs": []
    },
    {
      "metadata": {
        "trusted": true
      },
      "cell_type": "code",
      "source": "p['x coord']",
      "execution_count": 42,
      "outputs": [
        {
          "output_type": "display_data",
          "data": {
            "text/plain": "x coord \n      1 ",
            "text/latex": "\\textbf{x coord:} 1",
            "text/markdown": "**x coord:** 1",
            "text/html": "<strong>x coord:</strong> 1"
          },
          "metadata": {}
        }
      ]
    },
    {
      "metadata": {
        "trusted": true
      },
      "cell_type": "code",
      "source": "p[c(TRUE,FALSE)]",
      "execution_count": 44,
      "outputs": [
        {
          "output_type": "display_data",
          "data": {
            "text/plain": "x coord \n      1 ",
            "text/latex": "\\textbf{x coord:} 1",
            "text/markdown": "**x coord:** 1",
            "text/html": "<strong>x coord:</strong> 1"
          },
          "metadata": {}
        }
      ]
    },
    {
      "metadata": {
        "trusted": true
      },
      "cell_type": "code",
      "source": "p[-c(1)]",
      "execution_count": 45,
      "outputs": [
        {
          "output_type": "display_data",
          "data": {
            "text/plain": "y coord \n      0 ",
            "text/latex": "\\textbf{y coord:} 0",
            "text/markdown": "**y coord:** 0",
            "text/html": "<strong>y coord:</strong> 0"
          },
          "metadata": {}
        }
      ]
    },
    {
      "metadata": {
        "trusted": true
      },
      "cell_type": "code",
      "source": "p[p>0]",
      "execution_count": 46,
      "outputs": [
        {
          "output_type": "display_data",
          "data": {
            "text/plain": "x coord \n      1 ",
            "text/latex": "\\textbf{x coord:} 1",
            "text/markdown": "**x coord:** 1",
            "text/html": "<strong>x coord:</strong> 1"
          },
          "metadata": {}
        }
      ]
    },
    {
      "metadata": {
        "trusted": true
      },
      "cell_type": "code",
      "source": "p>=0",
      "execution_count": 47,
      "outputs": [
        {
          "output_type": "display_data",
          "data": {
            "text/plain": "     [,1]\n[1,] TRUE\n[2,] TRUE",
            "text/latex": "A matrix: 2 x 1 of type lgl\n\\begin{tabular}{l}\n\t TRUE\\\\\n\t TRUE\\\\\n\\end{tabular}\n",
            "text/markdown": "\nA matrix: 2 x 1 of type lgl\n\n| TRUE |\n| TRUE |\n\n",
            "text/html": "<table>\n<caption>A matrix: 2 x 1 of type lgl</caption>\n<tbody>\n\t<tr><td>TRUE</td></tr>\n\t<tr><td>TRUE</td></tr>\n</tbody>\n</table>\n"
          },
          "metadata": {}
        }
      ]
    },
    {
      "metadata": {
        "trusted": true
      },
      "cell_type": "code",
      "source": "p.append(NA)",
      "execution_count": 48,
      "outputs": [
        {
          "output_type": "error",
          "ename": "ERROR",
          "evalue": "Error in p.append(NA): could not find function \"p.append\"\n",
          "traceback": [
            "Error in p.append(NA): could not find function \"p.append\"\nTraceback:\n"
          ]
        }
      ]
    },
    {
      "metadata": {
        "trusted": true
      },
      "cell_type": "code",
      "source": "p=c(p,NA)",
      "execution_count": 49,
      "outputs": []
    },
    {
      "metadata": {
        "trusted": true
      },
      "cell_type": "code",
      "source": "p[is.na(p)]='hi'",
      "execution_count": 51,
      "outputs": []
    },
    {
      "metadata": {
        "trusted": true
      },
      "cell_type": "code",
      "source": "p",
      "execution_count": 52,
      "outputs": [
        {
          "output_type": "display_data",
          "data": {
            "text/plain": "x coord y coord         \n    \"1\"     \"0\"    \"hi\" ",
            "text/latex": "\\begin{description*}\n\\item[x coord] '1'\n\\item[y coord] '0'\n\\item[3] 'hi'\n\\end{description*}\n",
            "text/markdown": "x coord\n:   '1'y coord\n:   '0'3\n:   'hi'\n\n",
            "text/html": "<dl class=dl-horizontal>\n\t<dt>x coord</dt>\n\t\t<dd>'1'</dd>\n\t<dt>y coord</dt>\n\t\t<dd>'0'</dd>\n\t<dt>3</dt>\n\t\t<dd>'hi'</dd>\n</dl>\n"
          },
          "metadata": {}
        }
      ]
    },
    {
      "metadata": {
        "trusted": true
      },
      "cell_type": "code",
      "source": "rm(p[3])",
      "execution_count": 53,
      "outputs": [
        {
          "output_type": "error",
          "ename": "ERROR",
          "evalue": "Error in rm(p[3]): ... must contain names or character strings\n",
          "traceback": [
            "Error in rm(p[3]): ... must contain names or character strings\nTraceback:\n",
            "1. rm(p[3])",
            "2. stop(\"... must contain names or character strings\")"
          ]
        }
      ]
    },
    {
      "metadata": {
        "trusted": true
      },
      "cell_type": "code",
      "source": "p=p[1:2]",
      "execution_count": 54,
      "outputs": []
    },
    {
      "metadata": {
        "trusted": true
      },
      "cell_type": "code",
      "source": "p",
      "execution_count": 55,
      "outputs": [
        {
          "output_type": "display_data",
          "data": {
            "text/plain": "x coord y coord \n    \"1\"     \"0\" ",
            "text/latex": "\\begin{description*}\n\\item[x coord] '1'\n\\item[y coord] '0'\n\\end{description*}\n",
            "text/markdown": "x coord\n:   '1'y coord\n:   '0'\n\n",
            "text/html": "<dl class=dl-horizontal>\n\t<dt>x coord</dt>\n\t\t<dd>'1'</dd>\n\t<dt>y coord</dt>\n\t\t<dd>'0'</dd>\n</dl>\n"
          },
          "metadata": {}
        }
      ]
    },
    {
      "metadata": {
        "trusted": true
      },
      "cell_type": "code",
      "source": "",
      "execution_count": null,
      "outputs": []
    }
  ],
  "metadata": {
    "kernelspec": {
      "name": "r",
      "display_name": "R",
      "language": "R"
    },
    "language_info": {
      "mimetype": "text/x-r-source",
      "name": "R",
      "pygments_lexer": "r",
      "version": "3.5.3",
      "file_extension": ".r",
      "codemirror_mode": "r"
    }
  },
  "nbformat": 4,
  "nbformat_minor": 2
}