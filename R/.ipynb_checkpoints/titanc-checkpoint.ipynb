{
  "cells": [
    {
      "metadata": {
        "trusted": true
      },
      "cell_type": "code",
      "source": "train=read.csv('train_titanic.csv',header = TRUE)",
      "execution_count": 1,
      "outputs": []
    },
    {
      "metadata": {
        "trusted": true
      },
      "cell_type": "code",
      "source": "head(train)",
      "execution_count": 2,
      "outputs": [
        {
          "output_type": "display_data",
          "data": {
            "text/plain": "  Survived PassengerId Pclass\n1 0        1           3     \n2 1        2           1     \n3 1        3           3     \n4 1        4           1     \n5 0        5           3     \n6 0        6           3     \n  Name                                                Sex    Age SibSp Parch\n1 Braund, Mr. Owen Harris                             male   22  1     0    \n2 Cumings, Mrs. John Bradley (Florence Briggs Thayer) female 38  1     0    \n3 Heikkinen, Miss. Laina                              female 26  0     0    \n4 Futrelle, Mrs. Jacques Heath (Lily May Peel)        female 35  1     0    \n5 Allen, Mr. William Henry                            male   35  0     0    \n6 Moran, Mr. James                                    male   NA  0     0    \n  Ticket           Fare    Cabin Embarked\n1 A/5 21171         7.2500       S       \n2 PC 17599         71.2833 C85   C       \n3 STON/O2. 3101282  7.9250       S       \n4 113803           53.1000 C123  S       \n5 373450            8.0500       S       \n6 330877            8.4583       Q       ",
            "text/latex": "A data.frame: 6 x 12\n\\begin{tabular}{r|llllllllllll}\n Survived & PassengerId & Pclass & Name & Sex & Age & SibSp & Parch & Ticket & Fare & Cabin & Embarked\\\\\n <int> & <int> & <int> & <fct> & <fct> & <dbl> & <int> & <int> & <fct> & <dbl> & <fct> & <fct>\\\\\n\\hline\n\t 0 & 1 & 3 & Braund, Mr. Owen Harris                             & male   & 22 & 1 & 0 & A/5 21171        &  7.2500 &      & S\\\\\n\t 1 & 2 & 1 & Cumings, Mrs. John Bradley (Florence Briggs Thayer) & female & 38 & 1 & 0 & PC 17599         & 71.2833 & C85  & C\\\\\n\t 1 & 3 & 3 & Heikkinen, Miss. Laina                              & female & 26 & 0 & 0 & STON/O2. 3101282 &  7.9250 &      & S\\\\\n\t 1 & 4 & 1 & Futrelle, Mrs. Jacques Heath (Lily May Peel)        & female & 35 & 1 & 0 & 113803           & 53.1000 & C123 & S\\\\\n\t 0 & 5 & 3 & Allen, Mr. William Henry                            & male   & 35 & 0 & 0 & 373450           &  8.0500 &      & S\\\\\n\t 0 & 6 & 3 & Moran, Mr. James                                    & male   & NA & 0 & 0 & 330877           &  8.4583 &      & Q\\\\\n\\end{tabular}\n",
            "text/markdown": "\nA data.frame: 6 x 12\n\n| Survived &lt;int&gt; | PassengerId &lt;int&gt; | Pclass &lt;int&gt; | Name &lt;fct&gt; | Sex &lt;fct&gt; | Age &lt;dbl&gt; | SibSp &lt;int&gt; | Parch &lt;int&gt; | Ticket &lt;fct&gt; | Fare &lt;dbl&gt; | Cabin &lt;fct&gt; | Embarked &lt;fct&gt; |\n|---|---|---|---|---|---|---|---|---|---|---|---|\n| 0 | 1 | 3 | Braund, Mr. Owen Harris                             | male   | 22 | 1 | 0 | A/5 21171        |  7.2500 | <!----> | S |\n| 1 | 2 | 1 | Cumings, Mrs. John Bradley (Florence Briggs Thayer) | female | 38 | 1 | 0 | PC 17599         | 71.2833 | C85  | C |\n| 1 | 3 | 3 | Heikkinen, Miss. Laina                              | female | 26 | 0 | 0 | STON/O2. 3101282 |  7.9250 | <!----> | S |\n| 1 | 4 | 1 | Futrelle, Mrs. Jacques Heath (Lily May Peel)        | female | 35 | 1 | 0 | 113803           | 53.1000 | C123 | S |\n| 0 | 5 | 3 | Allen, Mr. William Henry                            | male   | 35 | 0 | 0 | 373450           |  8.0500 | <!----> | S |\n| 0 | 6 | 3 | Moran, Mr. James                                    | male   | NA | 0 | 0 | 330877           |  8.4583 | <!----> | Q |\n\n",
            "text/html": "<table>\n<caption>A data.frame: 6 x 12</caption>\n<thead>\n\t<tr><th scope=col>Survived</th><th scope=col>PassengerId</th><th scope=col>Pclass</th><th scope=col>Name</th><th scope=col>Sex</th><th scope=col>Age</th><th scope=col>SibSp</th><th scope=col>Parch</th><th scope=col>Ticket</th><th scope=col>Fare</th><th scope=col>Cabin</th><th scope=col>Embarked</th></tr>\n\t<tr><th scope=col>&lt;int&gt;</th><th scope=col>&lt;int&gt;</th><th scope=col>&lt;int&gt;</th><th scope=col>&lt;fct&gt;</th><th scope=col>&lt;fct&gt;</th><th scope=col>&lt;dbl&gt;</th><th scope=col>&lt;int&gt;</th><th scope=col>&lt;int&gt;</th><th scope=col>&lt;fct&gt;</th><th scope=col>&lt;dbl&gt;</th><th scope=col>&lt;fct&gt;</th><th scope=col>&lt;fct&gt;</th></tr>\n</thead>\n<tbody>\n\t<tr><td>0</td><td>1</td><td>3</td><td>Braund, Mr. Owen Harris                            </td><td>male  </td><td>22</td><td>1</td><td>0</td><td>A/5 21171       </td><td> 7.2500</td><td>    </td><td>S</td></tr>\n\t<tr><td>1</td><td>2</td><td>1</td><td>Cumings, Mrs. John Bradley (Florence Briggs Thayer)</td><td>female</td><td>38</td><td>1</td><td>0</td><td>PC 17599        </td><td>71.2833</td><td>C85 </td><td>C</td></tr>\n\t<tr><td>1</td><td>3</td><td>3</td><td>Heikkinen, Miss. Laina                             </td><td>female</td><td>26</td><td>0</td><td>0</td><td>STON/O2. 3101282</td><td> 7.9250</td><td>    </td><td>S</td></tr>\n\t<tr><td>1</td><td>4</td><td>1</td><td>Futrelle, Mrs. Jacques Heath (Lily May Peel)       </td><td>female</td><td>35</td><td>1</td><td>0</td><td>113803          </td><td>53.1000</td><td>C123</td><td>S</td></tr>\n\t<tr><td>0</td><td>5</td><td>3</td><td>Allen, Mr. William Henry                           </td><td>male  </td><td>35</td><td>0</td><td>0</td><td>373450          </td><td> 8.0500</td><td>    </td><td>S</td></tr>\n\t<tr><td>0</td><td>6</td><td>3</td><td>Moran, Mr. James                                   </td><td>male  </td><td>NA</td><td>0</td><td>0</td><td>330877          </td><td> 8.4583</td><td>    </td><td>Q</td></tr>\n</tbody>\n</table>\n"
          },
          "metadata": {}
        }
      ]
    },
    {
      "metadata": {
        "trusted": true
      },
      "cell_type": "code",
      "source": "dim(train)",
      "execution_count": 3,
      "outputs": [
        {
          "output_type": "display_data",
          "data": {
            "text/plain": "[1] 891  12",
            "text/latex": "\\begin{enumerate*}\n\\item 891\n\\item 12\n\\end{enumerate*}\n",
            "text/markdown": "1. 891\n2. 12\n\n\n",
            "text/html": "<ol class=list-inline>\n\t<li>891</li>\n\t<li>12</li>\n</ol>\n"
          },
          "metadata": {}
        }
      ]
    },
    {
      "metadata": {},
      "cell_type": "markdown",
      "source": "for numbers, take average and check if it is make sense\nfix(train)"
    },
    {
      "metadata": {
        "trusted": true,
        "scrolled": true
      },
      "cell_type": "code",
      "source": "str(train)",
      "execution_count": 4,
      "outputs": [
        {
          "output_type": "stream",
          "text": "'data.frame':\t891 obs. of  12 variables:\n $ Survived   : int  0 1 1 1 0 0 0 0 1 1 ...\n $ PassengerId: int  1 2 3 4 5 6 7 8 9 10 ...\n $ Pclass     : int  3 1 3 1 3 3 1 3 3 2 ...\n $ Name       : Factor w/ 891 levels \"Abbing, Mr. Anthony\",..: 109 191 358 277 16 559 520 629 417 581 ...\n $ Sex        : Factor w/ 2 levels \"female\",\"male\": 2 1 1 1 2 2 2 2 1 1 ...\n $ Age        : num  22 38 26 35 35 NA 54 2 27 14 ...\n $ SibSp      : int  1 1 0 1 0 0 0 3 0 1 ...\n $ Parch      : int  0 0 0 0 0 0 0 1 2 0 ...\n $ Ticket     : Factor w/ 681 levels \"110152\",\"110413\",..: 524 597 670 50 473 276 86 396 345 133 ...\n $ Fare       : num  7.25 71.28 7.92 53.1 8.05 ...\n $ Cabin      : Factor w/ 148 levels \"\",\"A10\",\"A14\",..: 1 83 1 57 1 1 131 1 1 1 ...\n $ Embarked   : Factor w/ 4 levels \"\",\"C\",\"Q\",\"S\": 4 2 4 4 4 3 4 4 4 2 ...\n",
          "name": "stdout"
        }
      ]
    },
    {
      "metadata": {
        "trusted": true
      },
      "cell_type": "code",
      "source": "dim(train)",
      "execution_count": 6,
      "outputs": [
        {
          "output_type": "display_data",
          "data": {
            "text/plain": "[1] 891  12",
            "text/latex": "\\begin{enumerate*}\n\\item 891\n\\item 12\n\\end{enumerate*}\n",
            "text/markdown": "1. 891\n2. 12\n\n\n",
            "text/html": "<ol class=list-inline>\n\t<li>891</li>\n\t<li>12</li>\n</ol>\n"
          },
          "metadata": {}
        }
      ]
    },
    {
      "metadata": {
        "trusted": true
      },
      "cell_type": "code",
      "source": " train$Survived=as.factor(train$Survived)\ntrain$Pclass=as.factor(train$Pclass)",
      "execution_count": 8,
      "outputs": []
    },
    {
      "metadata": {
        "trusted": true
      },
      "cell_type": "code",
      "source": "str(train)",
      "execution_count": 9,
      "outputs": [
        {
          "output_type": "stream",
          "text": "'data.frame':\t891 obs. of  12 variables:\n $ Survived   : Factor w/ 2 levels \"0\",\"1\": 1 2 2 2 1 1 1 1 2 2 ...\n $ PassengerId: int  1 2 3 4 5 6 7 8 9 10 ...\n $ Pclass     : Factor w/ 3 levels \"1\",\"2\",\"3\": 3 1 3 1 3 3 1 3 3 2 ...\n $ Name       : Factor w/ 891 levels \"Abbing, Mr. Anthony\",..: 109 191 358 277 16 559 520 629 417 581 ...\n $ Sex        : Factor w/ 2 levels \"female\",\"male\": 2 1 1 1 2 2 2 2 1 1 ...\n $ Age        : num  22 38 26 35 35 NA 54 2 27 14 ...\n $ SibSp      : int  1 1 0 1 0 0 0 3 0 1 ...\n $ Parch      : int  0 0 0 0 0 0 0 1 2 0 ...\n $ Ticket     : Factor w/ 681 levels \"110152\",\"110413\",..: 524 597 670 50 473 276 86 396 345 133 ...\n $ Fare       : num  7.25 71.28 7.92 53.1 8.05 ...\n $ Cabin      : Factor w/ 148 levels \"\",\"A10\",\"A14\",..: 1 83 1 57 1 1 131 1 1 1 ...\n $ Embarked   : Factor w/ 4 levels \"\",\"C\",\"Q\",\"S\": 4 2 4 4 4 3 4 4 4 2 ...\n",
          "name": "stdout"
        }
      ]
    },
    {
      "metadata": {
        "trusted": true
      },
      "cell_type": "code",
      "source": "table(train$Survived)",
      "execution_count": 10,
      "outputs": [
        {
          "output_type": "display_data",
          "data": {
            "text/plain": "\n  0   1 \n549 342 "
          },
          "metadata": {}
        }
      ]
    },
    {
      "metadata": {
        "trusted": true
      },
      "cell_type": "code",
      "source": "table(train$Sex,train$Survived)",
      "execution_count": 11,
      "outputs": [
        {
          "output_type": "display_data",
          "data": {
            "text/plain": "        \n           0   1\n  female  81 233\n  male   468 109"
          },
          "metadata": {}
        }
      ]
    },
    {
      "metadata": {
        "trusted": true
      },
      "cell_type": "code",
      "source": "table(train$Pclass)",
      "execution_count": 12,
      "outputs": [
        {
          "output_type": "display_data",
          "data": {
            "text/plain": "\n  1   2   3 \n216 184 491 "
          },
          "metadata": {}
        }
      ]
    },
    {
      "metadata": {
        "trusted": true
      },
      "cell_type": "code",
      "source": "table(train$Pclass,train$Survived)",
      "execution_count": 13,
      "outputs": [
        {
          "output_type": "display_data",
          "data": {
            "text/plain": "   \n      0   1\n  1  80 136\n  2  97  87\n  3 372 119"
          },
          "metadata": {}
        }
      ]
    },
    {
      "metadata": {
        "trusted": true
      },
      "cell_type": "code",
      "source": "newtrain=train[1:800,]",
      "execution_count": 14,
      "outputs": []
    },
    {
      "metadata": {
        "trusted": true
      },
      "cell_type": "code",
      "source": "test=train[-(1:800),]",
      "execution_count": 15,
      "outputs": []
    },
    {
      "metadata": {
        "trusted": true
      },
      "cell_type": "code",
      "source": "dim(newtrain)",
      "execution_count": 16,
      "outputs": [
        {
          "output_type": "display_data",
          "data": {
            "text/plain": "[1] 800  12",
            "text/latex": "\\begin{enumerate*}\n\\item 800\n\\item 12\n\\end{enumerate*}\n",
            "text/markdown": "1. 800\n2. 12\n\n\n",
            "text/html": "<ol class=list-inline>\n\t<li>800</li>\n\t<li>12</li>\n</ol>\n"
          },
          "metadata": {}
        }
      ]
    },
    {
      "metadata": {
        "trusted": true
      },
      "cell_type": "code",
      "source": "dim(test)",
      "execution_count": 18,
      "outputs": [
        {
          "output_type": "display_data",
          "data": {
            "text/plain": "[1] 91 12",
            "text/latex": "\\begin{enumerate*}\n\\item 91\n\\item 12\n\\end{enumerate*}\n",
            "text/markdown": "1. 91\n2. 12\n\n\n",
            "text/html": "<ol class=list-inline>\n\t<li>91</li>\n\t<li>12</li>\n</ol>\n"
          },
          "metadata": {}
        }
      ]
    },
    {
      "metadata": {
        "trusted": true
      },
      "cell_type": "code",
      "source": "?glm",
      "execution_count": 19,
      "outputs": []
    },
    {
      "metadata": {
        "trusted": true
      },
      "cell_type": "code",
      "source": "names(newtrain)",
      "execution_count": 20,
      "outputs": [
        {
          "output_type": "display_data",
          "data": {
            "text/plain": " [1] \"Survived\"    \"PassengerId\" \"Pclass\"      \"Name\"        \"Sex\"        \n [6] \"Age\"         \"SibSp\"       \"Parch\"       \"Ticket\"      \"Fare\"       \n[11] \"Cabin\"       \"Embarked\"   ",
            "text/latex": "\\begin{enumerate*}\n\\item 'Survived'\n\\item 'PassengerId'\n\\item 'Pclass'\n\\item 'Name'\n\\item 'Sex'\n\\item 'Age'\n\\item 'SibSp'\n\\item 'Parch'\n\\item 'Ticket'\n\\item 'Fare'\n\\item 'Cabin'\n\\item 'Embarked'\n\\end{enumerate*}\n",
            "text/markdown": "1. 'Survived'\n2. 'PassengerId'\n3. 'Pclass'\n4. 'Name'\n5. 'Sex'\n6. 'Age'\n7. 'SibSp'\n8. 'Parch'\n9. 'Ticket'\n10. 'Fare'\n11. 'Cabin'\n12. 'Embarked'\n\n\n",
            "text/html": "<ol class=list-inline>\n\t<li>'Survived'</li>\n\t<li>'PassengerId'</li>\n\t<li>'Pclass'</li>\n\t<li>'Name'</li>\n\t<li>'Sex'</li>\n\t<li>'Age'</li>\n\t<li>'SibSp'</li>\n\t<li>'Parch'</li>\n\t<li>'Ticket'</li>\n\t<li>'Fare'</li>\n\t<li>'Cabin'</li>\n\t<li>'Embarked'</li>\n</ol>\n"
          },
          "metadata": {}
        }
      ]
    },
    {
      "metadata": {
        "trusted": true
      },
      "cell_type": "code",
      "source": "model=glm(formula = Survived~Pclass+Sex+Age+SibSp+Parch,family = binomial(link = \"logit\"), data = newtrain)",
      "execution_count": 23,
      "outputs": []
    },
    {
      "metadata": {
        "trusted": true,
        "scrolled": true
      },
      "cell_type": "code",
      "source": "summary(model)",
      "execution_count": 24,
      "outputs": [
        {
          "output_type": "display_data",
          "data": {
            "text/plain": "\nCall:\nglm(formula = Survived ~ Pclass + Sex + Age + SibSp + Parch, \n    family = binomial(link = \"logit\"), data = newtrain)\n\nDeviance Residuals: \n    Min       1Q   Median       3Q      Max  \n-2.7216  -0.6502  -0.3929   0.6351   2.4327  \n\nCoefficients:\n             Estimate Std. Error z value Pr(>|z|)    \n(Intercept)  4.257092   0.475161   8.959  < 2e-16 ***\nPclass2     -1.328337   0.298874  -4.444 8.81e-06 ***\nPclass3     -2.597343   0.299149  -8.682  < 2e-16 ***\nSexmale     -2.649403   0.233295 -11.356  < 2e-16 ***\nAge         -0.042579   0.008577  -4.964 6.90e-07 ***\nSibSp       -0.333253   0.133161  -2.503   0.0123 *  \nParch       -0.080098   0.129575  -0.618   0.5365    \n---\nSignif. codes:  0 ‘***’ 0.001 ‘**’ 0.01 ‘*’ 0.05 ‘.’ 0.1 ‘ ’ 1\n\n(Dispersion parameter for binomial family taken to be 1)\n\n    Null deviance: 860.71  on 636  degrees of freedom\nResidual deviance: 569.89  on 630  degrees of freedom\n  (163 observations deleted due to missingness)\nAIC: 583.89\n\nNumber of Fisher Scoring iterations: 5\n"
          },
          "metadata": {}
        }
      ]
    },
    {
      "metadata": {},
      "cell_type": "markdown",
      "source": "ln(odds(Survived)) = 4.25 - 1.3 Pclass2....\nR2 for whole , pvalue for individual variables\ngreater than 0.05 is not significant impacting your dependant variable\nPclass2 is binary\n\n"
    },
    {
      "metadata": {
        "trusted": true
      },
      "cell_type": "code",
      "source": "prob = predict(model,test,type='response')",
      "execution_count": 25,
      "outputs": []
    },
    {
      "metadata": {
        "trusted": true
      },
      "cell_type": "code",
      "source": "prob",
      "execution_count": 27,
      "outputs": [
        {
          "output_type": "display_data",
          "data": {
            "text/plain": "       801        802        803        804        805        806        807 \n0.23715514 0.76771425 0.65607875 0.25206378 0.10533611 0.09033031 0.48677830 \n       808        809        810        811        812        813        814 \n0.70957566 0.20081057 0.92544420 0.10941675 0.06597410 0.22953843 0.47778092 \n       815        816        817        818        819        820        821 \n0.09209502         NA 0.66383426 0.18939379 0.05622329 0.07073840 0.83611805 \n       822        823        824        825        826        827        828 \n0.10533611 0.49742003 0.60587683 0.07670916         NA         NA 0.51913469 \n       829        830        831        832        833        834        835 \n        NA 0.83440628 0.66547923 0.45776580         NA 0.12249902 0.14728207 \n       836        837        838        839        840        841        842 \n0.89872639 0.13195109         NA 0.08689204         NA 0.13690500 0.40085233 \n       843        844        845        846        847        848        849 \n0.95164934 0.07880934 0.15271030 0.05852579         NA 0.07727754 0.27032717 \n       850        851        852        853        854        855        856 \n        NA 0.06579329 0.01566538 0.70332571 0.97056594 0.67305129 0.69279648 \n       857        858        859        860        861        862        863 \n0.87299215 0.36265729 0.59809992         NA 0.03223594 0.27927433 0.90143676 \n       864        865        866        867        868        869        870 \n        NA 0.32244713 0.75775853 0.80936111 0.57144135         NA 0.17174331 \n       871        872        873        874        875        876        877 \n0.10941675 0.86324639 0.55047149 0.04783981 0.80270466 0.73517933 0.13690500 \n       878        879        880        881        882        883        884 \n0.14201446         NA 0.85724084 0.85621193 0.08357262 0.67326891 0.28641391 \n       885        886        887        888        889        890        891 \n0.11363539 0.40099289 0.29519481 0.96917406         NA 0.62260740 0.08689204 ",
            "text/latex": "\\begin{description*}\n\\item[801] 0.237155144951197\n\\item[802] 0.767714246099073\n\\item[803] 0.656078750039447\n\\item[804] 0.252063781073888\n\\item[805] 0.105336114931859\n\\item[806] 0.090330312283541\n\\item[807] 0.486778295586997\n\\item[808] 0.709575664407046\n\\item[809] 0.200810566267055\n\\item[810] 0.925444200606379\n\\item[811] 0.109416750488258\n\\item[812] 0.0659741042679012\n\\item[813] 0.229538431424405\n\\item[814] 0.477780921057891\n\\item[815] 0.0920950181351773\n\\item[816] <NA>\n\\item[817] 0.663834257191858\n\\item[818] 0.189393790444973\n\\item[819] 0.0562232880717653\n\\item[820] 0.0707384018556895\n\\item[821] 0.83611805123291\n\\item[822] 0.105336114931859\n\\item[823] 0.497420028953197\n\\item[824] 0.605876834123745\n\\item[825] 0.0767091559938029\n\\item[826] <NA>\n\\item[827] <NA>\n\\item[828] 0.519134689630794\n\\item[829] <NA>\n\\item[830] 0.834406278586972\n\\item[831] 0.665479225143701\n\\item[832] 0.457765804023405\n\\item[833] <NA>\n\\item[834] 0.122499016842777\n\\item[835] 0.147282072557154\n\\item[836] 0.898726386158409\n\\item[837] 0.13195109161702\n\\item[838] <NA>\n\\item[839] 0.086892044257601\n\\item[840] <NA>\n\\item[841] 0.136904995556114\n\\item[842] 0.400852329223107\n\\item[843] 0.951649336311171\n\\item[844] 0.0788093354163542\n\\item[845] 0.152710297120812\n\\item[846] 0.0585257934714615\n\\item[847] <NA>\n\\item[848] 0.0772775383880892\n\\item[849] 0.270327165040854\n\\item[850] <NA>\n\\item[851] 0.065793294719624\n\\item[852] 0.0156653763740138\n\\item[853] 0.703325714309643\n\\item[854] 0.970565941242665\n\\item[855] 0.673051293296409\n\\item[856] 0.692796481640954\n\\item[857] 0.872992152163553\n\\item[858] 0.362657288562357\n\\item[859] 0.598099916921529\n\\item[860] <NA>\n\\item[861] 0.0322359352222882\n\\item[862] 0.279274332442094\n\\item[863] 0.901436761919068\n\\item[864] <NA>\n\\item[865] 0.322447133316927\n\\item[866] 0.757758530194103\n\\item[867] 0.809361114906892\n\\item[868] 0.571441347913216\n\\item[869] <NA>\n\\item[870] 0.17174331046456\n\\item[871] 0.109416750488258\n\\item[872] 0.863246392898611\n\\item[873] 0.550471491825301\n\\item[874] 0.0478398053604431\n\\item[875] 0.802704655896091\n\\item[876] 0.735179330477386\n\\item[877] 0.136904995556114\n\\item[878] 0.142014458518387\n\\item[879] <NA>\n\\item[880] 0.85724084287553\n\\item[881] 0.856211932059859\n\\item[882] 0.0835726246209859\n\\item[883] 0.673268914005239\n\\item[884] 0.286413910570947\n\\item[885] 0.113635388017829\n\\item[886] 0.4009928932086\n\\item[887] 0.295194813753602\n\\item[888] 0.969174057278688\n\\item[889] <NA>\n\\item[890] 0.622607398913769\n\\item[891] 0.086892044257601\n\\end{description*}\n",
            "text/markdown": "801\n:   0.237155144951197802\n:   0.767714246099073803\n:   0.656078750039447804\n:   0.252063781073888805\n:   0.105336114931859806\n:   0.090330312283541807\n:   0.486778295586997808\n:   0.709575664407046809\n:   0.200810566267055810\n:   0.925444200606379811\n:   0.109416750488258812\n:   0.0659741042679012813\n:   0.229538431424405814\n:   0.477780921057891815\n:   0.0920950181351773816\n:   &lt;NA&gt;817\n:   0.663834257191858818\n:   0.189393790444973819\n:   0.0562232880717653820\n:   0.0707384018556895821\n:   0.83611805123291822\n:   0.105336114931859823\n:   0.497420028953197824\n:   0.605876834123745825\n:   0.0767091559938029826\n:   &lt;NA&gt;827\n:   &lt;NA&gt;828\n:   0.519134689630794829\n:   &lt;NA&gt;830\n:   0.834406278586972831\n:   0.665479225143701832\n:   0.457765804023405833\n:   &lt;NA&gt;834\n:   0.122499016842777835\n:   0.147282072557154836\n:   0.898726386158409837\n:   0.13195109161702838\n:   &lt;NA&gt;839\n:   0.086892044257601840\n:   &lt;NA&gt;841\n:   0.136904995556114842\n:   0.400852329223107843\n:   0.951649336311171844\n:   0.0788093354163542845\n:   0.152710297120812846\n:   0.0585257934714615847\n:   &lt;NA&gt;848\n:   0.0772775383880892849\n:   0.270327165040854850\n:   &lt;NA&gt;851\n:   0.065793294719624852\n:   0.0156653763740138853\n:   0.703325714309643854\n:   0.970565941242665855\n:   0.673051293296409856\n:   0.692796481640954857\n:   0.872992152163553858\n:   0.362657288562357859\n:   0.598099916921529860\n:   &lt;NA&gt;861\n:   0.0322359352222882862\n:   0.279274332442094863\n:   0.901436761919068864\n:   &lt;NA&gt;865\n:   0.322447133316927866\n:   0.757758530194103867\n:   0.809361114906892868\n:   0.571441347913216869\n:   &lt;NA&gt;870\n:   0.17174331046456871\n:   0.109416750488258872\n:   0.863246392898611873\n:   0.550471491825301874\n:   0.0478398053604431875\n:   0.802704655896091876\n:   0.735179330477386877\n:   0.136904995556114878\n:   0.142014458518387879\n:   &lt;NA&gt;880\n:   0.85724084287553881\n:   0.856211932059859882\n:   0.0835726246209859883\n:   0.673268914005239884\n:   0.286413910570947885\n:   0.113635388017829886\n:   0.4009928932086887\n:   0.295194813753602888\n:   0.969174057278688889\n:   &lt;NA&gt;890\n:   0.622607398913769891\n:   0.086892044257601\n\n",
            "text/html": "<dl class=dl-horizontal>\n\t<dt>801</dt>\n\t\t<dd>0.237155144951197</dd>\n\t<dt>802</dt>\n\t\t<dd>0.767714246099073</dd>\n\t<dt>803</dt>\n\t\t<dd>0.656078750039447</dd>\n\t<dt>804</dt>\n\t\t<dd>0.252063781073888</dd>\n\t<dt>805</dt>\n\t\t<dd>0.105336114931859</dd>\n\t<dt>806</dt>\n\t\t<dd>0.090330312283541</dd>\n\t<dt>807</dt>\n\t\t<dd>0.486778295586997</dd>\n\t<dt>808</dt>\n\t\t<dd>0.709575664407046</dd>\n\t<dt>809</dt>\n\t\t<dd>0.200810566267055</dd>\n\t<dt>810</dt>\n\t\t<dd>0.925444200606379</dd>\n\t<dt>811</dt>\n\t\t<dd>0.109416750488258</dd>\n\t<dt>812</dt>\n\t\t<dd>0.0659741042679012</dd>\n\t<dt>813</dt>\n\t\t<dd>0.229538431424405</dd>\n\t<dt>814</dt>\n\t\t<dd>0.477780921057891</dd>\n\t<dt>815</dt>\n\t\t<dd>0.0920950181351773</dd>\n\t<dt>816</dt>\n\t\t<dd>&lt;NA&gt;</dd>\n\t<dt>817</dt>\n\t\t<dd>0.663834257191858</dd>\n\t<dt>818</dt>\n\t\t<dd>0.189393790444973</dd>\n\t<dt>819</dt>\n\t\t<dd>0.0562232880717653</dd>\n\t<dt>820</dt>\n\t\t<dd>0.0707384018556895</dd>\n\t<dt>821</dt>\n\t\t<dd>0.83611805123291</dd>\n\t<dt>822</dt>\n\t\t<dd>0.105336114931859</dd>\n\t<dt>823</dt>\n\t\t<dd>0.497420028953197</dd>\n\t<dt>824</dt>\n\t\t<dd>0.605876834123745</dd>\n\t<dt>825</dt>\n\t\t<dd>0.0767091559938029</dd>\n\t<dt>826</dt>\n\t\t<dd>&lt;NA&gt;</dd>\n\t<dt>827</dt>\n\t\t<dd>&lt;NA&gt;</dd>\n\t<dt>828</dt>\n\t\t<dd>0.519134689630794</dd>\n\t<dt>829</dt>\n\t\t<dd>&lt;NA&gt;</dd>\n\t<dt>830</dt>\n\t\t<dd>0.834406278586972</dd>\n\t<dt>831</dt>\n\t\t<dd>0.665479225143701</dd>\n\t<dt>832</dt>\n\t\t<dd>0.457765804023405</dd>\n\t<dt>833</dt>\n\t\t<dd>&lt;NA&gt;</dd>\n\t<dt>834</dt>\n\t\t<dd>0.122499016842777</dd>\n\t<dt>835</dt>\n\t\t<dd>0.147282072557154</dd>\n\t<dt>836</dt>\n\t\t<dd>0.898726386158409</dd>\n\t<dt>837</dt>\n\t\t<dd>0.13195109161702</dd>\n\t<dt>838</dt>\n\t\t<dd>&lt;NA&gt;</dd>\n\t<dt>839</dt>\n\t\t<dd>0.086892044257601</dd>\n\t<dt>840</dt>\n\t\t<dd>&lt;NA&gt;</dd>\n\t<dt>841</dt>\n\t\t<dd>0.136904995556114</dd>\n\t<dt>842</dt>\n\t\t<dd>0.400852329223107</dd>\n\t<dt>843</dt>\n\t\t<dd>0.951649336311171</dd>\n\t<dt>844</dt>\n\t\t<dd>0.0788093354163542</dd>\n\t<dt>845</dt>\n\t\t<dd>0.152710297120812</dd>\n\t<dt>846</dt>\n\t\t<dd>0.0585257934714615</dd>\n\t<dt>847</dt>\n\t\t<dd>&lt;NA&gt;</dd>\n\t<dt>848</dt>\n\t\t<dd>0.0772775383880892</dd>\n\t<dt>849</dt>\n\t\t<dd>0.270327165040854</dd>\n\t<dt>850</dt>\n\t\t<dd>&lt;NA&gt;</dd>\n\t<dt>851</dt>\n\t\t<dd>0.065793294719624</dd>\n\t<dt>852</dt>\n\t\t<dd>0.0156653763740138</dd>\n\t<dt>853</dt>\n\t\t<dd>0.703325714309643</dd>\n\t<dt>854</dt>\n\t\t<dd>0.970565941242665</dd>\n\t<dt>855</dt>\n\t\t<dd>0.673051293296409</dd>\n\t<dt>856</dt>\n\t\t<dd>0.692796481640954</dd>\n\t<dt>857</dt>\n\t\t<dd>0.872992152163553</dd>\n\t<dt>858</dt>\n\t\t<dd>0.362657288562357</dd>\n\t<dt>859</dt>\n\t\t<dd>0.598099916921529</dd>\n\t<dt>860</dt>\n\t\t<dd>&lt;NA&gt;</dd>\n\t<dt>861</dt>\n\t\t<dd>0.0322359352222882</dd>\n\t<dt>862</dt>\n\t\t<dd>0.279274332442094</dd>\n\t<dt>863</dt>\n\t\t<dd>0.901436761919068</dd>\n\t<dt>864</dt>\n\t\t<dd>&lt;NA&gt;</dd>\n\t<dt>865</dt>\n\t\t<dd>0.322447133316927</dd>\n\t<dt>866</dt>\n\t\t<dd>0.757758530194103</dd>\n\t<dt>867</dt>\n\t\t<dd>0.809361114906892</dd>\n\t<dt>868</dt>\n\t\t<dd>0.571441347913216</dd>\n\t<dt>869</dt>\n\t\t<dd>&lt;NA&gt;</dd>\n\t<dt>870</dt>\n\t\t<dd>0.17174331046456</dd>\n\t<dt>871</dt>\n\t\t<dd>0.109416750488258</dd>\n\t<dt>872</dt>\n\t\t<dd>0.863246392898611</dd>\n\t<dt>873</dt>\n\t\t<dd>0.550471491825301</dd>\n\t<dt>874</dt>\n\t\t<dd>0.0478398053604431</dd>\n\t<dt>875</dt>\n\t\t<dd>0.802704655896091</dd>\n\t<dt>876</dt>\n\t\t<dd>0.735179330477386</dd>\n\t<dt>877</dt>\n\t\t<dd>0.136904995556114</dd>\n\t<dt>878</dt>\n\t\t<dd>0.142014458518387</dd>\n\t<dt>879</dt>\n\t\t<dd>&lt;NA&gt;</dd>\n\t<dt>880</dt>\n\t\t<dd>0.85724084287553</dd>\n\t<dt>881</dt>\n\t\t<dd>0.856211932059859</dd>\n\t<dt>882</dt>\n\t\t<dd>0.0835726246209859</dd>\n\t<dt>883</dt>\n\t\t<dd>0.673268914005239</dd>\n\t<dt>884</dt>\n\t\t<dd>0.286413910570947</dd>\n\t<dt>885</dt>\n\t\t<dd>0.113635388017829</dd>\n\t<dt>886</dt>\n\t\t<dd>0.4009928932086</dd>\n\t<dt>887</dt>\n\t\t<dd>0.295194813753602</dd>\n\t<dt>888</dt>\n\t\t<dd>0.969174057278688</dd>\n\t<dt>889</dt>\n\t\t<dd>&lt;NA&gt;</dd>\n\t<dt>890</dt>\n\t\t<dd>0.622607398913769</dd>\n\t<dt>891</dt>\n\t\t<dd>0.086892044257601</dd>\n</dl>\n"
          },
          "metadata": {}
        }
      ]
    },
    {
      "metadata": {
        "trusted": true
      },
      "cell_type": "code",
      "source": "predgroup=rep(0,91)",
      "execution_count": 28,
      "outputs": []
    },
    {
      "metadata": {
        "trusted": true
      },
      "cell_type": "code",
      "source": "predgroup[prob>.5]=1",
      "execution_count": 32,
      "outputs": []
    },
    {
      "metadata": {
        "trusted": true
      },
      "cell_type": "code",
      "source": "predgroup",
      "execution_count": 33,
      "outputs": [
        {
          "output_type": "display_data",
          "data": {
            "text/plain": " [1] 0 1 1 0 0 0 0 1 0 1 0 0 0 0 0 0 1 0 0 0 1 0 0 1 0 0 0 1 0 1 1 0 0 0 0 1 0 0\n[39] 0 0 0 0 1 0 0 0 0 0 0 0 0 0 1 1 1 1 1 0 1 0 0 0 1 0 0 1 1 1 0 0 0 1 1 0 1 1\n[77] 0 0 0 1 1 0 1 0 0 0 0 1 0 1 0",
            "text/latex": "\\begin{enumerate*}\n\\item 0\n\\item 1\n\\item 1\n\\item 0\n\\item 0\n\\item 0\n\\item 0\n\\item 1\n\\item 0\n\\item 1\n\\item 0\n\\item 0\n\\item 0\n\\item 0\n\\item 0\n\\item 0\n\\item 1\n\\item 0\n\\item 0\n\\item 0\n\\item 1\n\\item 0\n\\item 0\n\\item 1\n\\item 0\n\\item 0\n\\item 0\n\\item 1\n\\item 0\n\\item 1\n\\item 1\n\\item 0\n\\item 0\n\\item 0\n\\item 0\n\\item 1\n\\item 0\n\\item 0\n\\item 0\n\\item 0\n\\item 0\n\\item 0\n\\item 1\n\\item 0\n\\item 0\n\\item 0\n\\item 0\n\\item 0\n\\item 0\n\\item 0\n\\item 0\n\\item 0\n\\item 1\n\\item 1\n\\item 1\n\\item 1\n\\item 1\n\\item 0\n\\item 1\n\\item 0\n\\item 0\n\\item 0\n\\item 1\n\\item 0\n\\item 0\n\\item 1\n\\item 1\n\\item 1\n\\item 0\n\\item 0\n\\item 0\n\\item 1\n\\item 1\n\\item 0\n\\item 1\n\\item 1\n\\item 0\n\\item 0\n\\item 0\n\\item 1\n\\item 1\n\\item 0\n\\item 1\n\\item 0\n\\item 0\n\\item 0\n\\item 0\n\\item 1\n\\item 0\n\\item 1\n\\item 0\n\\end{enumerate*}\n",
            "text/markdown": "1. 0\n2. 1\n3. 1\n4. 0\n5. 0\n6. 0\n7. 0\n8. 1\n9. 0\n10. 1\n11. 0\n12. 0\n13. 0\n14. 0\n15. 0\n16. 0\n17. 1\n18. 0\n19. 0\n20. 0\n21. 1\n22. 0\n23. 0\n24. 1\n25. 0\n26. 0\n27. 0\n28. 1\n29. 0\n30. 1\n31. 1\n32. 0\n33. 0\n34. 0\n35. 0\n36. 1\n37. 0\n38. 0\n39. 0\n40. 0\n41. 0\n42. 0\n43. 1\n44. 0\n45. 0\n46. 0\n47. 0\n48. 0\n49. 0\n50. 0\n51. 0\n52. 0\n53. 1\n54. 1\n55. 1\n56. 1\n57. 1\n58. 0\n59. 1\n60. 0\n61. 0\n62. 0\n63. 1\n64. 0\n65. 0\n66. 1\n67. 1\n68. 1\n69. 0\n70. 0\n71. 0\n72. 1\n73. 1\n74. 0\n75. 1\n76. 1\n77. 0\n78. 0\n79. 0\n80. 1\n81. 1\n82. 0\n83. 1\n84. 0\n85. 0\n86. 0\n87. 0\n88. 1\n89. 0\n90. 1\n91. 0\n\n\n",
            "text/html": "<ol class=list-inline>\n\t<li>0</li>\n\t<li>1</li>\n\t<li>1</li>\n\t<li>0</li>\n\t<li>0</li>\n\t<li>0</li>\n\t<li>0</li>\n\t<li>1</li>\n\t<li>0</li>\n\t<li>1</li>\n\t<li>0</li>\n\t<li>0</li>\n\t<li>0</li>\n\t<li>0</li>\n\t<li>0</li>\n\t<li>0</li>\n\t<li>1</li>\n\t<li>0</li>\n\t<li>0</li>\n\t<li>0</li>\n\t<li>1</li>\n\t<li>0</li>\n\t<li>0</li>\n\t<li>1</li>\n\t<li>0</li>\n\t<li>0</li>\n\t<li>0</li>\n\t<li>1</li>\n\t<li>0</li>\n\t<li>1</li>\n\t<li>1</li>\n\t<li>0</li>\n\t<li>0</li>\n\t<li>0</li>\n\t<li>0</li>\n\t<li>1</li>\n\t<li>0</li>\n\t<li>0</li>\n\t<li>0</li>\n\t<li>0</li>\n\t<li>0</li>\n\t<li>0</li>\n\t<li>1</li>\n\t<li>0</li>\n\t<li>0</li>\n\t<li>0</li>\n\t<li>0</li>\n\t<li>0</li>\n\t<li>0</li>\n\t<li>0</li>\n\t<li>0</li>\n\t<li>0</li>\n\t<li>1</li>\n\t<li>1</li>\n\t<li>1</li>\n\t<li>1</li>\n\t<li>1</li>\n\t<li>0</li>\n\t<li>1</li>\n\t<li>0</li>\n\t<li>0</li>\n\t<li>0</li>\n\t<li>1</li>\n\t<li>0</li>\n\t<li>0</li>\n\t<li>1</li>\n\t<li>1</li>\n\t<li>1</li>\n\t<li>0</li>\n\t<li>0</li>\n\t<li>0</li>\n\t<li>1</li>\n\t<li>1</li>\n\t<li>0</li>\n\t<li>1</li>\n\t<li>1</li>\n\t<li>0</li>\n\t<li>0</li>\n\t<li>0</li>\n\t<li>1</li>\n\t<li>1</li>\n\t<li>0</li>\n\t<li>1</li>\n\t<li>0</li>\n\t<li>0</li>\n\t<li>0</li>\n\t<li>0</li>\n\t<li>1</li>\n\t<li>0</li>\n\t<li>1</li>\n\t<li>0</li>\n</ol>\n"
          },
          "metadata": {}
        }
      ]
    },
    {
      "metadata": {
        "trusted": true
      },
      "cell_type": "code",
      "source": "table(predgroup,test$Survived)",
      "execution_count": 37,
      "outputs": [
        {
          "output_type": "display_data",
          "data": {
            "text/plain": "         \npredgroup  0  1\n        0 50 10\n        1  7 24"
          },
          "metadata": {}
        }
      ]
    },
    {
      "metadata": {},
      "cell_type": "markdown",
      "source": "missing, add/remove variables, threshold, sample for random selection"
    }
  ],
  "metadata": {
    "kernelspec": {
      "name": "r",
      "display_name": "R",
      "language": "R"
    },
    "language_info": {
      "mimetype": "text/x-r-source",
      "name": "R",
      "pygments_lexer": "r",
      "version": "3.5.3",
      "file_extension": ".r",
      "codemirror_mode": "r"
    }
  },
  "nbformat": 4,
  "nbformat_minor": 2
}